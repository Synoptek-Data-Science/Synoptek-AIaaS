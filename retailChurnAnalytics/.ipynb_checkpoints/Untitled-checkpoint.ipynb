{
 "cells": [
  {
   "cell_type": "code",
   "execution_count": 1,
   "id": "a8895dde-ba53-4e75-9dba-6f6bfcaa2b45",
   "metadata": {},
   "outputs": [],
   "source": [
    "import pandas as pd\n",
    "import numpy as np"
   ]
  },
  {
   "cell_type": "code",
   "execution_count": 2,
   "id": "8a304445-a4fb-4b89-b7f7-cdc09f225067",
   "metadata": {},
   "outputs": [],
   "source": [
    "inputs = r'C:/Users/pawanc/Desktop/retailAnalytics/retailChurnAnalytics/inputs/'"
   ]
  },
  {
   "cell_type": "code",
   "execution_count": 3,
   "id": "815247d5-18e7-43db-af59-91328e15dbbb",
   "metadata": {},
   "outputs": [
    {
     "data": {
      "text/html": [
       "<div>\n",
       "<style scoped>\n",
       "    .dataframe tbody tr th:only-of-type {\n",
       "        vertical-align: middle;\n",
       "    }\n",
       "\n",
       "    .dataframe tbody tr th {\n",
       "        vertical-align: top;\n",
       "    }\n",
       "\n",
       "    .dataframe thead th {\n",
       "        text-align: right;\n",
       "    }\n",
       "</style>\n",
       "<table border=\"1\" class=\"dataframe\">\n",
       "  <thead>\n",
       "    <tr style=\"text-align: right;\">\n",
       "      <th></th>\n",
       "      <th>UserId</th>\n",
       "      <th>Age</th>\n",
       "      <th>Address</th>\n",
       "      <th>Gender</th>\n",
       "      <th>UserType</th>\n",
       "    </tr>\n",
       "  </thead>\n",
       "  <tbody>\n",
       "    <tr>\n",
       "      <th>0</th>\n",
       "      <td>204041</td>\n",
       "      <td>36</td>\n",
       "      <td>M</td>\n",
       "      <td>Value</td>\n",
       "      <td>ME</td>\n",
       "    </tr>\n",
       "    <tr>\n",
       "      <th>1</th>\n",
       "      <td>1643825</td>\n",
       "      <td>24</td>\n",
       "      <td>F</td>\n",
       "      <td>Value</td>\n",
       "      <td>FL</td>\n",
       "    </tr>\n",
       "    <tr>\n",
       "      <th>2</th>\n",
       "      <td>1813716</td>\n",
       "      <td>20</td>\n",
       "      <td>F</td>\n",
       "      <td>Fast</td>\n",
       "      <td>CA</td>\n",
       "    </tr>\n",
       "    <tr>\n",
       "      <th>3</th>\n",
       "      <td>2099461</td>\n",
       "      <td>26</td>\n",
       "      <td>M</td>\n",
       "      <td>Inspiration</td>\n",
       "      <td>GA</td>\n",
       "    </tr>\n",
       "    <tr>\n",
       "      <th>4</th>\n",
       "      <td>303768</td>\n",
       "      <td>20</td>\n",
       "      <td>F</td>\n",
       "      <td>Fast</td>\n",
       "      <td>CA</td>\n",
       "    </tr>\n",
       "  </tbody>\n",
       "</table>\n",
       "</div>"
      ],
      "text/plain": [
       "    UserId  Age Address       Gender UserType\n",
       "0   204041   36       M        Value       ME\n",
       "1  1643825   24       F        Value       FL\n",
       "2  1813716   20       F         Fast       CA\n",
       "3  2099461   26       M  Inspiration       GA\n",
       "4   303768   20       F         Fast       CA"
      ]
     },
     "execution_count": 3,
     "metadata": {},
     "output_type": "execute_result"
    }
   ],
   "source": [
    "usrData = pd.read_csv(inputs+'userData.csv')\n",
    "usrData.head()"
   ]
  },
  {
   "cell_type": "code",
   "execution_count": null,
   "id": "07e25f4a-ff91-4671-b01a-df4d8a4daeed",
   "metadata": {},
   "outputs": [],
   "source": []
  }
 ],
 "metadata": {
  "kernelspec": {
   "display_name": "Python 3 (ipykernel)",
   "language": "python",
   "name": "python3"
  },
  "language_info": {
   "codemirror_mode": {
    "name": "ipython",
    "version": 3
   },
   "file_extension": ".py",
   "mimetype": "text/x-python",
   "name": "python",
   "nbconvert_exporter": "python",
   "pygments_lexer": "ipython3",
   "version": "3.9.12"
  }
 },
 "nbformat": 4,
 "nbformat_minor": 5
}
