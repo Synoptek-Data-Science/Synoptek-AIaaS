{
 "cells": [
  {
   "cell_type": "code",
   "execution_count": 1,
   "id": "1583bacf",
   "metadata": {},
   "outputs": [],
   "source": [
    "# Importing libraries\n",
    "import pandas as pd\n",
    "import numpy as np\n",
    "import warnings\n",
    "\n",
    "##df = pd.read_csv('C:/Users/Dishita Neve/Sales_Forecast/Input/Champion_Data_Historical_Data.csv')\n",
    "df = pd.read_excel('C:/Users/Dishita Neve/Sales_Forecast/Input/Sales_edit.xlsx')\n",
    "df['Location'] = df['Location'].str.title()\n",
    "df['Location'] = df['Location'].replace('Coloradosp', 'Colorado')"
   ]
  },
  {
   "cell_type": "code",
   "execution_count": 2,
   "id": "2296d7f2",
   "metadata": {},
   "outputs": [],
   "source": [
    "city_state_dict = {\n",
    "    'Albany': 'New York',\n",
    "    'Albuquerque': 'New Mexico',\n",
    "    'Atlanta': 'Georgia',\n",
    "    'Austin': 'Texas',\n",
    "    'Baltimore': 'Maryland',\n",
    "    'Birmingham': 'Alabama',\n",
    "    'Boise': 'Idaho',\n",
    "    'Charlotte': 'North Carolina',\n",
    "    'Chattanooga': 'Tennessee',\n",
    "    'Chicago': 'Illinois',\n",
    "    'Cincinnati': 'Ohio',\n",
    "    'Cleveland': 'Ohio',\n",
    "    'Coloradosp': 'Colordo',\n",
    "    'Colorado': 'Colordo',\n",
    "    'Columbia': 'South Carolina',\n",
    "    'Columbusoh': 'Ohio',\n",
    "    'Dayton': 'Ohio',\n",
    "    'Denver': 'Colorado',\n",
    "    'Evansville': 'Indiana',\n",
    "    'Ftcollins': 'Colorado',\n",
    "    'Ftworth': 'Texas',\n",
    "    'Grandrapids': 'Michigan',\n",
    "    'Greensboro': 'North Carolina',\n",
    "    'Huntsville': 'Alabama',\n",
    "    'Indianapolis': 'Indiana',\n",
    "    'Johnsoncity': 'Tennessee',\n",
    "    'Kansascity': 'Missouri',\n",
    "    'Lexington': 'Kentucky',\n",
    "    'Louisville': 'Kentucky',\n",
    "    'Macon': 'Georgia',\n",
    "    'Memphis': 'Tennessee',\n",
    "    'Milwaukee': 'Wisconsin',\n",
    "    'Minneapolis': 'Minnesota',\n",
    "    'Nashville': 'Tennessee',\n",
    "    'Oklahomacity': 'Oklahoma',\n",
    "    'Omaha': 'Nebraska',\n",
    "    'Pittsburgh': 'Pennsylvania',\n",
    "    'Portland': 'Oregon',\n",
    "    'Raleigh': 'North Carolina',\n",
    "    'Richmondva': 'Virginia',\n",
    "    'Rochester': 'New York',\n",
    "    'Saltlakecity': 'Utah',\n",
    "    'Sanantonio': 'Texas',\n",
    "    'Seattle': 'Washington',\n",
    "    'Southbend': 'Indiana',\n",
    "    'Stlouis': 'Missouri',\n",
    "    'Toledo': 'Ohio',\n",
    "    'Tulsa': 'Oklahoma',\n",
    "    'Wichita': 'Kansas'\n",
    "}"
   ]
  },
  {
   "cell_type": "code",
   "execution_count": 3,
   "id": "601eba62",
   "metadata": {},
   "outputs": [],
   "source": [
    "df['State'] = df['Location'].map(city_state_dict)"
   ]
  },
  {
   "cell_type": "code",
   "execution_count": 4,
   "id": "f6641250",
   "metadata": {},
   "outputs": [
    {
     "data": {
      "text/html": [
       "<div>\n",
       "<style scoped>\n",
       "    .dataframe tbody tr th:only-of-type {\n",
       "        vertical-align: middle;\n",
       "    }\n",
       "\n",
       "    .dataframe tbody tr th {\n",
       "        vertical-align: top;\n",
       "    }\n",
       "\n",
       "    .dataframe thead th {\n",
       "        text-align: right;\n",
       "    }\n",
       "</style>\n",
       "<table border=\"1\" class=\"dataframe\">\n",
       "  <thead>\n",
       "    <tr style=\"text-align: right;\">\n",
       "      <th></th>\n",
       "      <th>Date</th>\n",
       "      <th>Location</th>\n",
       "      <th>Budget</th>\n",
       "      <th>CPA</th>\n",
       "      <th>APPT.created</th>\n",
       "      <th>Conversion.ran</th>\n",
       "      <th>APPT.ran</th>\n",
       "      <th>Conversion.close</th>\n",
       "      <th>Orders</th>\n",
       "      <th>Average.ticket</th>\n",
       "      <th>Sales</th>\n",
       "      <th>Day</th>\n",
       "      <th>Month</th>\n",
       "      <th>Year</th>\n",
       "      <th>State</th>\n",
       "    </tr>\n",
       "  </thead>\n",
       "  <tbody>\n",
       "    <tr>\n",
       "      <th>0</th>\n",
       "      <td>2015-01-01</td>\n",
       "      <td>Albany</td>\n",
       "      <td>17931.0</td>\n",
       "      <td>717</td>\n",
       "      <td>25.0</td>\n",
       "      <td>0.800000</td>\n",
       "      <td>20.0</td>\n",
       "      <td>0.300000</td>\n",
       "      <td>6.0</td>\n",
       "      <td>4728.0</td>\n",
       "      <td>28368</td>\n",
       "      <td>1</td>\n",
       "      <td>1</td>\n",
       "      <td>2015</td>\n",
       "      <td>New York</td>\n",
       "    </tr>\n",
       "    <tr>\n",
       "      <th>1</th>\n",
       "      <td>2015-02-01</td>\n",
       "      <td>Albany</td>\n",
       "      <td>33143.0</td>\n",
       "      <td>571</td>\n",
       "      <td>58.0</td>\n",
       "      <td>0.862069</td>\n",
       "      <td>50.0</td>\n",
       "      <td>0.260000</td>\n",
       "      <td>13.0</td>\n",
       "      <td>12533.0</td>\n",
       "      <td>162929</td>\n",
       "      <td>1</td>\n",
       "      <td>2</td>\n",
       "      <td>2015</td>\n",
       "      <td>New York</td>\n",
       "    </tr>\n",
       "    <tr>\n",
       "      <th>2</th>\n",
       "      <td>2015-03-01</td>\n",
       "      <td>Albany</td>\n",
       "      <td>65600.0</td>\n",
       "      <td>820</td>\n",
       "      <td>80.0</td>\n",
       "      <td>0.875000</td>\n",
       "      <td>70.0</td>\n",
       "      <td>0.242857</td>\n",
       "      <td>17.0</td>\n",
       "      <td>12260.0</td>\n",
       "      <td>208420</td>\n",
       "      <td>1</td>\n",
       "      <td>3</td>\n",
       "      <td>2015</td>\n",
       "      <td>New York</td>\n",
       "    </tr>\n",
       "    <tr>\n",
       "      <th>3</th>\n",
       "      <td>2015-04-01</td>\n",
       "      <td>Albany</td>\n",
       "      <td>76460.0</td>\n",
       "      <td>490</td>\n",
       "      <td>156.0</td>\n",
       "      <td>0.916667</td>\n",
       "      <td>143.0</td>\n",
       "      <td>0.300699</td>\n",
       "      <td>43.0</td>\n",
       "      <td>7430.0</td>\n",
       "      <td>319490</td>\n",
       "      <td>1</td>\n",
       "      <td>4</td>\n",
       "      <td>2015</td>\n",
       "      <td>New York</td>\n",
       "    </tr>\n",
       "    <tr>\n",
       "      <th>4</th>\n",
       "      <td>2015-05-01</td>\n",
       "      <td>Albany</td>\n",
       "      <td>77819.0</td>\n",
       "      <td>894</td>\n",
       "      <td>87.0</td>\n",
       "      <td>1.218391</td>\n",
       "      <td>106.0</td>\n",
       "      <td>0.216981</td>\n",
       "      <td>23.0</td>\n",
       "      <td>12322.0</td>\n",
       "      <td>283406</td>\n",
       "      <td>1</td>\n",
       "      <td>5</td>\n",
       "      <td>2015</td>\n",
       "      <td>New York</td>\n",
       "    </tr>\n",
       "  </tbody>\n",
       "</table>\n",
       "</div>"
      ],
      "text/plain": [
       "        Date Location   Budget  CPA  APPT.created  Conversion.ran  APPT.ran  \\\n",
       "0 2015-01-01   Albany  17931.0  717          25.0        0.800000      20.0   \n",
       "1 2015-02-01   Albany  33143.0  571          58.0        0.862069      50.0   \n",
       "2 2015-03-01   Albany  65600.0  820          80.0        0.875000      70.0   \n",
       "3 2015-04-01   Albany  76460.0  490         156.0        0.916667     143.0   \n",
       "4 2015-05-01   Albany  77819.0  894          87.0        1.218391     106.0   \n",
       "\n",
       "   Conversion.close  Orders  Average.ticket   Sales  Day   Month  Year  \\\n",
       "0          0.300000     6.0          4728.0   28368     1      1  2015   \n",
       "1          0.260000    13.0         12533.0  162929     1      2  2015   \n",
       "2          0.242857    17.0         12260.0  208420     1      3  2015   \n",
       "3          0.300699    43.0          7430.0  319490     1      4  2015   \n",
       "4          0.216981    23.0         12322.0  283406     1      5  2015   \n",
       "\n",
       "      State  \n",
       "0  New York  \n",
       "1  New York  \n",
       "2  New York  \n",
       "3  New York  \n",
       "4  New York  "
      ]
     },
     "execution_count": 4,
     "metadata": {},
     "output_type": "execute_result"
    }
   ],
   "source": [
    "df.head(5)"
   ]
  },
  {
   "cell_type": "code",
   "execution_count": 5,
   "id": "fcbb015f",
   "metadata": {},
   "outputs": [
    {
     "data": {
      "text/plain": [
       "28"
      ]
     },
     "execution_count": 5,
     "metadata": {},
     "output_type": "execute_result"
    }
   ],
   "source": [
    "df['State'].nunique()"
   ]
  },
  {
   "cell_type": "code",
   "execution_count": 6,
   "id": "a233f75d",
   "metadata": {},
   "outputs": [
    {
     "data": {
      "text/plain": [
       "array(['New York', 'New Mexico', 'Georgia', 'Texas', 'Maryland',\n",
       "       'Alabama', 'Idaho', 'North Carolina', 'Tennessee', 'Illinois',\n",
       "       'Ohio', 'Colordo', 'South Carolina', 'Colorado', 'Indiana',\n",
       "       'Michigan', 'Missouri', 'Kentucky', 'Wisconsin', 'Minnesota',\n",
       "       'Oklahoma', 'Nebraska', 'Pennsylvania', 'Oregon', 'Virginia',\n",
       "       'Utah', 'Washington', 'Kansas'], dtype=object)"
      ]
     },
     "execution_count": 6,
     "metadata": {},
     "output_type": "execute_result"
    }
   ],
   "source": [
    "df['State'].unique()"
   ]
  },
  {
   "cell_type": "code",
   "execution_count": 7,
   "id": "68cfb3e4",
   "metadata": {},
   "outputs": [],
   "source": [
    "states = df['State'].unique().tolist()"
   ]
  },
  {
   "cell_type": "code",
   "execution_count": 8,
   "id": "a91be60a",
   "metadata": {},
   "outputs": [
    {
     "name": "stdout",
     "output_type": "stream",
     "text": [
      "{'New York': 'Northeast', 'New Mexico': 'Southwest', 'Georgia': 'Southeast', 'Texas': 'Southwest', 'Maryland': 'Southeast', 'Alabama': 'Southeast', 'Idaho': 'West', 'North Carolina': 'Southeast', 'Tennessee': 'Southeast', 'Illinois': 'Midwest', 'Ohio': 'Midwest', 'Colordo': 'West', 'South Carolina': 'Southeast', 'Colorado': 'West', 'Indiana': 'Midwest', 'Michigan': 'Midwest', 'Missouri': 'Midwest', 'Kentucky': 'Midwest', 'Wisconsin': 'Midwest', 'Minnesota': 'Midwest', 'Oklahoma': 'Southwest', 'Nebraska': 'Midwest', 'Pennsylvania': 'Northeast', 'Oregon': 'West', 'Virginia': 'Southeast', 'Utah': 'West', 'Washington': 'West', 'Kansas': 'Midwest'}\n"
     ]
    }
   ],
   "source": [
    "states = ['New York', 'New Mexico', 'Georgia', 'Texas', 'Maryland',\n",
    "          'Alabama', 'Idaho', 'North Carolina', 'Tennessee', 'Illinois',\n",
    "          'Ohio', 'Colordo', 'South Carolina', 'Colorado', 'Indiana',\n",
    "          'Michigan', 'Missouri', 'Kentucky', 'Wisconsin', 'Minnesota',\n",
    "          'Oklahoma', 'Nebraska', 'Pennsylvania', 'Oregon', 'Virginia',\n",
    "          'Utah', 'Washington', 'Kansas']\n",
    "\n",
    "region_dict = {}\n",
    "\n",
    "northeast = ['New York','Pennsylvania']\n",
    "southwest = ['New Mexico','Oklahoma','Texas']\n",
    "west = ['Colorado', 'Idaho', 'Oregon', 'Utah', 'Washington','Colordo']\n",
    "southeast = ['Georgia', 'Maryland', 'North Carolina', 'South Carolina', 'Alabama', 'Virginia','Tennessee']\n",
    "midwest = ['Illinois', 'Ohio', 'Indiana', 'Michigan', 'Missouri', 'Kentucky', 'Wisconsin', 'Minnesota', 'Nebraska', 'Kansas']\n",
    "\n",
    "for state in states:\n",
    "    if state in northeast:\n",
    "        region_dict[state] = 'Northeast'\n",
    "    elif state in southwest:\n",
    "        region_dict[state] = 'Southwest'\n",
    "    elif state in west:\n",
    "        region_dict[state] = 'West'\n",
    "    elif state in southeast:\n",
    "        region_dict[state] = 'Southeast'\n",
    "    elif state in midwest:\n",
    "        region_dict[state] = 'Midwest'\n",
    "\n",
    "print(region_dict)\n"
   ]
  },
  {
   "cell_type": "code",
   "execution_count": 9,
   "id": "10fdf81b",
   "metadata": {},
   "outputs": [],
   "source": [
    "df['Region'] = df['State'].map(region_dict)"
   ]
  },
  {
   "cell_type": "code",
   "execution_count": 10,
   "id": "fcaa00dd",
   "metadata": {},
   "outputs": [
    {
     "data": {
      "text/html": [
       "<div>\n",
       "<style scoped>\n",
       "    .dataframe tbody tr th:only-of-type {\n",
       "        vertical-align: middle;\n",
       "    }\n",
       "\n",
       "    .dataframe tbody tr th {\n",
       "        vertical-align: top;\n",
       "    }\n",
       "\n",
       "    .dataframe thead th {\n",
       "        text-align: right;\n",
       "    }\n",
       "</style>\n",
       "<table border=\"1\" class=\"dataframe\">\n",
       "  <thead>\n",
       "    <tr style=\"text-align: right;\">\n",
       "      <th></th>\n",
       "      <th>Date</th>\n",
       "      <th>Location</th>\n",
       "      <th>Budget</th>\n",
       "      <th>CPA</th>\n",
       "      <th>APPT.created</th>\n",
       "      <th>Conversion.ran</th>\n",
       "      <th>APPT.ran</th>\n",
       "      <th>Conversion.close</th>\n",
       "      <th>Orders</th>\n",
       "      <th>Average.ticket</th>\n",
       "      <th>Sales</th>\n",
       "      <th>Day</th>\n",
       "      <th>Month</th>\n",
       "      <th>Year</th>\n",
       "      <th>State</th>\n",
       "      <th>Region</th>\n",
       "    </tr>\n",
       "  </thead>\n",
       "  <tbody>\n",
       "    <tr>\n",
       "      <th>0</th>\n",
       "      <td>2015-01-01</td>\n",
       "      <td>Albany</td>\n",
       "      <td>17931.0</td>\n",
       "      <td>717</td>\n",
       "      <td>25.0</td>\n",
       "      <td>0.800000</td>\n",
       "      <td>20.0</td>\n",
       "      <td>0.300000</td>\n",
       "      <td>6.0</td>\n",
       "      <td>4728.0</td>\n",
       "      <td>28368</td>\n",
       "      <td>1</td>\n",
       "      <td>1</td>\n",
       "      <td>2015</td>\n",
       "      <td>New York</td>\n",
       "      <td>Northeast</td>\n",
       "    </tr>\n",
       "    <tr>\n",
       "      <th>1</th>\n",
       "      <td>2015-02-01</td>\n",
       "      <td>Albany</td>\n",
       "      <td>33143.0</td>\n",
       "      <td>571</td>\n",
       "      <td>58.0</td>\n",
       "      <td>0.862069</td>\n",
       "      <td>50.0</td>\n",
       "      <td>0.260000</td>\n",
       "      <td>13.0</td>\n",
       "      <td>12533.0</td>\n",
       "      <td>162929</td>\n",
       "      <td>1</td>\n",
       "      <td>2</td>\n",
       "      <td>2015</td>\n",
       "      <td>New York</td>\n",
       "      <td>Northeast</td>\n",
       "    </tr>\n",
       "    <tr>\n",
       "      <th>2</th>\n",
       "      <td>2015-03-01</td>\n",
       "      <td>Albany</td>\n",
       "      <td>65600.0</td>\n",
       "      <td>820</td>\n",
       "      <td>80.0</td>\n",
       "      <td>0.875000</td>\n",
       "      <td>70.0</td>\n",
       "      <td>0.242857</td>\n",
       "      <td>17.0</td>\n",
       "      <td>12260.0</td>\n",
       "      <td>208420</td>\n",
       "      <td>1</td>\n",
       "      <td>3</td>\n",
       "      <td>2015</td>\n",
       "      <td>New York</td>\n",
       "      <td>Northeast</td>\n",
       "    </tr>\n",
       "    <tr>\n",
       "      <th>3</th>\n",
       "      <td>2015-04-01</td>\n",
       "      <td>Albany</td>\n",
       "      <td>76460.0</td>\n",
       "      <td>490</td>\n",
       "      <td>156.0</td>\n",
       "      <td>0.916667</td>\n",
       "      <td>143.0</td>\n",
       "      <td>0.300699</td>\n",
       "      <td>43.0</td>\n",
       "      <td>7430.0</td>\n",
       "      <td>319490</td>\n",
       "      <td>1</td>\n",
       "      <td>4</td>\n",
       "      <td>2015</td>\n",
       "      <td>New York</td>\n",
       "      <td>Northeast</td>\n",
       "    </tr>\n",
       "    <tr>\n",
       "      <th>4</th>\n",
       "      <td>2015-05-01</td>\n",
       "      <td>Albany</td>\n",
       "      <td>77819.0</td>\n",
       "      <td>894</td>\n",
       "      <td>87.0</td>\n",
       "      <td>1.218391</td>\n",
       "      <td>106.0</td>\n",
       "      <td>0.216981</td>\n",
       "      <td>23.0</td>\n",
       "      <td>12322.0</td>\n",
       "      <td>283406</td>\n",
       "      <td>1</td>\n",
       "      <td>5</td>\n",
       "      <td>2015</td>\n",
       "      <td>New York</td>\n",
       "      <td>Northeast</td>\n",
       "    </tr>\n",
       "    <tr>\n",
       "      <th>...</th>\n",
       "      <td>...</td>\n",
       "      <td>...</td>\n",
       "      <td>...</td>\n",
       "      <td>...</td>\n",
       "      <td>...</td>\n",
       "      <td>...</td>\n",
       "      <td>...</td>\n",
       "      <td>...</td>\n",
       "      <td>...</td>\n",
       "      <td>...</td>\n",
       "      <td>...</td>\n",
       "      <td>...</td>\n",
       "      <td>...</td>\n",
       "      <td>...</td>\n",
       "      <td>...</td>\n",
       "      <td>...</td>\n",
       "    </tr>\n",
       "    <tr>\n",
       "      <th>2299</th>\n",
       "      <td>2018-08-01</td>\n",
       "      <td>Wichita</td>\n",
       "      <td>NaN</td>\n",
       "      <td>0</td>\n",
       "      <td>0.0</td>\n",
       "      <td>NaN</td>\n",
       "      <td>0.0</td>\n",
       "      <td>NaN</td>\n",
       "      <td>0.0</td>\n",
       "      <td>0.0</td>\n",
       "      <td>0</td>\n",
       "      <td>1</td>\n",
       "      <td>8</td>\n",
       "      <td>2018</td>\n",
       "      <td>Kansas</td>\n",
       "      <td>Midwest</td>\n",
       "    </tr>\n",
       "    <tr>\n",
       "      <th>2300</th>\n",
       "      <td>2018-09-01</td>\n",
       "      <td>Wichita</td>\n",
       "      <td>NaN</td>\n",
       "      <td>0</td>\n",
       "      <td>0.0</td>\n",
       "      <td>NaN</td>\n",
       "      <td>0.0</td>\n",
       "      <td>NaN</td>\n",
       "      <td>0.0</td>\n",
       "      <td>0.0</td>\n",
       "      <td>0</td>\n",
       "      <td>1</td>\n",
       "      <td>9</td>\n",
       "      <td>2018</td>\n",
       "      <td>Kansas</td>\n",
       "      <td>Midwest</td>\n",
       "    </tr>\n",
       "    <tr>\n",
       "      <th>2301</th>\n",
       "      <td>2018-10-01</td>\n",
       "      <td>Wichita</td>\n",
       "      <td>NaN</td>\n",
       "      <td>0</td>\n",
       "      <td>0.0</td>\n",
       "      <td>NaN</td>\n",
       "      <td>0.0</td>\n",
       "      <td>NaN</td>\n",
       "      <td>0.0</td>\n",
       "      <td>0.0</td>\n",
       "      <td>0</td>\n",
       "      <td>1</td>\n",
       "      <td>10</td>\n",
       "      <td>2018</td>\n",
       "      <td>Kansas</td>\n",
       "      <td>Midwest</td>\n",
       "    </tr>\n",
       "    <tr>\n",
       "      <th>2302</th>\n",
       "      <td>2018-11-01</td>\n",
       "      <td>Wichita</td>\n",
       "      <td>NaN</td>\n",
       "      <td>0</td>\n",
       "      <td>0.0</td>\n",
       "      <td>NaN</td>\n",
       "      <td>0.0</td>\n",
       "      <td>NaN</td>\n",
       "      <td>0.0</td>\n",
       "      <td>0.0</td>\n",
       "      <td>0</td>\n",
       "      <td>1</td>\n",
       "      <td>11</td>\n",
       "      <td>2018</td>\n",
       "      <td>Kansas</td>\n",
       "      <td>Midwest</td>\n",
       "    </tr>\n",
       "    <tr>\n",
       "      <th>2303</th>\n",
       "      <td>2018-12-01</td>\n",
       "      <td>Wichita</td>\n",
       "      <td>NaN</td>\n",
       "      <td>0</td>\n",
       "      <td>0.0</td>\n",
       "      <td>NaN</td>\n",
       "      <td>0.0</td>\n",
       "      <td>NaN</td>\n",
       "      <td>0.0</td>\n",
       "      <td>0.0</td>\n",
       "      <td>0</td>\n",
       "      <td>1</td>\n",
       "      <td>12</td>\n",
       "      <td>2018</td>\n",
       "      <td>Kansas</td>\n",
       "      <td>Midwest</td>\n",
       "    </tr>\n",
       "  </tbody>\n",
       "</table>\n",
       "<p>2304 rows × 16 columns</p>\n",
       "</div>"
      ],
      "text/plain": [
       "           Date Location   Budget  CPA  APPT.created  Conversion.ran  \\\n",
       "0    2015-01-01   Albany  17931.0  717          25.0        0.800000   \n",
       "1    2015-02-01   Albany  33143.0  571          58.0        0.862069   \n",
       "2    2015-03-01   Albany  65600.0  820          80.0        0.875000   \n",
       "3    2015-04-01   Albany  76460.0  490         156.0        0.916667   \n",
       "4    2015-05-01   Albany  77819.0  894          87.0        1.218391   \n",
       "...         ...      ...      ...  ...           ...             ...   \n",
       "2299 2018-08-01  Wichita      NaN    0           0.0             NaN   \n",
       "2300 2018-09-01  Wichita      NaN    0           0.0             NaN   \n",
       "2301 2018-10-01  Wichita      NaN    0           0.0             NaN   \n",
       "2302 2018-11-01  Wichita      NaN    0           0.0             NaN   \n",
       "2303 2018-12-01  Wichita      NaN    0           0.0             NaN   \n",
       "\n",
       "      APPT.ran  Conversion.close  Orders  Average.ticket   Sales  Day   Month  \\\n",
       "0         20.0          0.300000     6.0          4728.0   28368     1      1   \n",
       "1         50.0          0.260000    13.0         12533.0  162929     1      2   \n",
       "2         70.0          0.242857    17.0         12260.0  208420     1      3   \n",
       "3        143.0          0.300699    43.0          7430.0  319490     1      4   \n",
       "4        106.0          0.216981    23.0         12322.0  283406     1      5   \n",
       "...        ...               ...     ...             ...     ...   ...    ...   \n",
       "2299       0.0               NaN     0.0             0.0       0     1      8   \n",
       "2300       0.0               NaN     0.0             0.0       0     1      9   \n",
       "2301       0.0               NaN     0.0             0.0       0     1     10   \n",
       "2302       0.0               NaN     0.0             0.0       0     1     11   \n",
       "2303       0.0               NaN     0.0             0.0       0     1     12   \n",
       "\n",
       "      Year     State     Region  \n",
       "0     2015  New York  Northeast  \n",
       "1     2015  New York  Northeast  \n",
       "2     2015  New York  Northeast  \n",
       "3     2015  New York  Northeast  \n",
       "4     2015  New York  Northeast  \n",
       "...    ...       ...        ...  \n",
       "2299  2018    Kansas    Midwest  \n",
       "2300  2018    Kansas    Midwest  \n",
       "2301  2018    Kansas    Midwest  \n",
       "2302  2018    Kansas    Midwest  \n",
       "2303  2018    Kansas    Midwest  \n",
       "\n",
       "[2304 rows x 16 columns]"
      ]
     },
     "execution_count": 10,
     "metadata": {},
     "output_type": "execute_result"
    }
   ],
   "source": [
    "df"
   ]
  },
  {
   "cell_type": "code",
   "execution_count": 11,
   "id": "fb9ef262",
   "metadata": {},
   "outputs": [
    {
     "data": {
      "text/plain": [
       "array(['Northeast', 'Southwest', 'Southeast', 'West', 'Midwest'],\n",
       "      dtype=object)"
      ]
     },
     "execution_count": 11,
     "metadata": {},
     "output_type": "execute_result"
    }
   ],
   "source": [
    "df['Region'].unique()"
   ]
  },
  {
   "cell_type": "code",
   "execution_count": 12,
   "id": "86c19704",
   "metadata": {
    "scrolled": true
   },
   "outputs": [
    {
     "data": {
      "text/plain": [
       "5"
      ]
     },
     "execution_count": 12,
     "metadata": {},
     "output_type": "execute_result"
    }
   ],
   "source": [
    "df['Region'].nunique()"
   ]
  },
  {
   "cell_type": "code",
   "execution_count": 13,
   "id": "2d3730b4",
   "metadata": {},
   "outputs": [
    {
     "data": {
      "text/html": [
       "<div>\n",
       "<style scoped>\n",
       "    .dataframe tbody tr th:only-of-type {\n",
       "        vertical-align: middle;\n",
       "    }\n",
       "\n",
       "    .dataframe tbody tr th {\n",
       "        vertical-align: top;\n",
       "    }\n",
       "\n",
       "    .dataframe thead th {\n",
       "        text-align: right;\n",
       "    }\n",
       "</style>\n",
       "<table border=\"1\" class=\"dataframe\">\n",
       "  <thead>\n",
       "    <tr style=\"text-align: right;\">\n",
       "      <th></th>\n",
       "      <th>Date</th>\n",
       "      <th>Location</th>\n",
       "      <th>Budget</th>\n",
       "      <th>CPA</th>\n",
       "      <th>APPT.created</th>\n",
       "      <th>Conversion.ran</th>\n",
       "      <th>APPT.ran</th>\n",
       "      <th>Conversion.close</th>\n",
       "      <th>Orders</th>\n",
       "      <th>Average.ticket</th>\n",
       "      <th>Sales</th>\n",
       "      <th>Day</th>\n",
       "      <th>Month</th>\n",
       "      <th>Year</th>\n",
       "      <th>State</th>\n",
       "      <th>Region</th>\n",
       "    </tr>\n",
       "  </thead>\n",
       "  <tbody>\n",
       "    <tr>\n",
       "      <th>0</th>\n",
       "      <td>2015-01-01</td>\n",
       "      <td>Albany</td>\n",
       "      <td>17931.0</td>\n",
       "      <td>717</td>\n",
       "      <td>25.0</td>\n",
       "      <td>0.800000</td>\n",
       "      <td>20.0</td>\n",
       "      <td>0.300000</td>\n",
       "      <td>6.0</td>\n",
       "      <td>4728.0</td>\n",
       "      <td>28368</td>\n",
       "      <td>1</td>\n",
       "      <td>1</td>\n",
       "      <td>2015</td>\n",
       "      <td>New York</td>\n",
       "      <td>Northeast</td>\n",
       "    </tr>\n",
       "    <tr>\n",
       "      <th>1</th>\n",
       "      <td>2015-02-01</td>\n",
       "      <td>Albany</td>\n",
       "      <td>33143.0</td>\n",
       "      <td>571</td>\n",
       "      <td>58.0</td>\n",
       "      <td>0.862069</td>\n",
       "      <td>50.0</td>\n",
       "      <td>0.260000</td>\n",
       "      <td>13.0</td>\n",
       "      <td>12533.0</td>\n",
       "      <td>162929</td>\n",
       "      <td>1</td>\n",
       "      <td>2</td>\n",
       "      <td>2015</td>\n",
       "      <td>New York</td>\n",
       "      <td>Northeast</td>\n",
       "    </tr>\n",
       "    <tr>\n",
       "      <th>2</th>\n",
       "      <td>2015-03-01</td>\n",
       "      <td>Albany</td>\n",
       "      <td>65600.0</td>\n",
       "      <td>820</td>\n",
       "      <td>80.0</td>\n",
       "      <td>0.875000</td>\n",
       "      <td>70.0</td>\n",
       "      <td>0.242857</td>\n",
       "      <td>17.0</td>\n",
       "      <td>12260.0</td>\n",
       "      <td>208420</td>\n",
       "      <td>1</td>\n",
       "      <td>3</td>\n",
       "      <td>2015</td>\n",
       "      <td>New York</td>\n",
       "      <td>Northeast</td>\n",
       "    </tr>\n",
       "    <tr>\n",
       "      <th>3</th>\n",
       "      <td>2015-04-01</td>\n",
       "      <td>Albany</td>\n",
       "      <td>76460.0</td>\n",
       "      <td>490</td>\n",
       "      <td>156.0</td>\n",
       "      <td>0.916667</td>\n",
       "      <td>143.0</td>\n",
       "      <td>0.300699</td>\n",
       "      <td>43.0</td>\n",
       "      <td>7430.0</td>\n",
       "      <td>319490</td>\n",
       "      <td>1</td>\n",
       "      <td>4</td>\n",
       "      <td>2015</td>\n",
       "      <td>New York</td>\n",
       "      <td>Northeast</td>\n",
       "    </tr>\n",
       "    <tr>\n",
       "      <th>4</th>\n",
       "      <td>2015-05-01</td>\n",
       "      <td>Albany</td>\n",
       "      <td>77819.0</td>\n",
       "      <td>894</td>\n",
       "      <td>87.0</td>\n",
       "      <td>1.218391</td>\n",
       "      <td>106.0</td>\n",
       "      <td>0.216981</td>\n",
       "      <td>23.0</td>\n",
       "      <td>12322.0</td>\n",
       "      <td>283406</td>\n",
       "      <td>1</td>\n",
       "      <td>5</td>\n",
       "      <td>2015</td>\n",
       "      <td>New York</td>\n",
       "      <td>Northeast</td>\n",
       "    </tr>\n",
       "  </tbody>\n",
       "</table>\n",
       "</div>"
      ],
      "text/plain": [
       "        Date Location   Budget  CPA  APPT.created  Conversion.ran  APPT.ran  \\\n",
       "0 2015-01-01   Albany  17931.0  717          25.0        0.800000      20.0   \n",
       "1 2015-02-01   Albany  33143.0  571          58.0        0.862069      50.0   \n",
       "2 2015-03-01   Albany  65600.0  820          80.0        0.875000      70.0   \n",
       "3 2015-04-01   Albany  76460.0  490         156.0        0.916667     143.0   \n",
       "4 2015-05-01   Albany  77819.0  894          87.0        1.218391     106.0   \n",
       "\n",
       "   Conversion.close  Orders  Average.ticket   Sales  Day   Month  Year  \\\n",
       "0          0.300000     6.0          4728.0   28368     1      1  2015   \n",
       "1          0.260000    13.0         12533.0  162929     1      2  2015   \n",
       "2          0.242857    17.0         12260.0  208420     1      3  2015   \n",
       "3          0.300699    43.0          7430.0  319490     1      4  2015   \n",
       "4          0.216981    23.0         12322.0  283406     1      5  2015   \n",
       "\n",
       "      State     Region  \n",
       "0  New York  Northeast  \n",
       "1  New York  Northeast  \n",
       "2  New York  Northeast  \n",
       "3  New York  Northeast  \n",
       "4  New York  Northeast  "
      ]
     },
     "execution_count": 13,
     "metadata": {},
     "output_type": "execute_result"
    }
   ],
   "source": [
    "df.head(5)"
   ]
  },
  {
   "cell_type": "code",
   "execution_count": 14,
   "id": "9699bd51",
   "metadata": {},
   "outputs": [],
   "source": [
    "df = df[df['Orders'] != 0]\n",
    "df = df[df['Year'] != 2018]"
   ]
  },
  {
   "cell_type": "code",
   "execution_count": 15,
   "id": "91d3208f",
   "metadata": {},
   "outputs": [
    {
     "name": "stdout",
     "output_type": "stream",
     "text": [
      "Dropping Duplicate rows in dataframe (1682, 16)\n",
      "Total Size of data after dropping duplicates (1682, 16)\n"
     ]
    }
   ],
   "source": [
    "print('Dropping Duplicate rows in dataframe',df.shape)\n",
    "df.drop_duplicates(inplace=True, ignore_index=True)\n",
    "print('Total Size of data after dropping duplicates',df.shape)"
   ]
  },
  {
   "cell_type": "code",
   "execution_count": 16,
   "id": "819271f5",
   "metadata": {},
   "outputs": [],
   "source": [
    "# Changing date column data type to date\n",
    "# df['Month'] = pd.to_datetime(df['Month'])\n",
    "# # Adding Year and Month Column\n",
    "# df['Year'] = df['Month'].dt.year\n",
    "# df['month'] = df['Month'].dt.month\n",
    "#df['Date'] = df['Month'].dt.month"
   ]
  },
  {
   "cell_type": "code",
   "execution_count": 17,
   "id": "1109532e",
   "metadata": {},
   "outputs": [
    {
     "data": {
      "text/plain": [
       "Index(['Date', 'Location', 'Budget', 'CPA', 'APPT.created', 'Conversion.ran',\n",
       "       'APPT.ran', 'Conversion.close', 'Orders', 'Average.ticket', 'Sales',\n",
       "       'Day ', 'Month', 'Year', 'State', 'Region'],\n",
       "      dtype='object')"
      ]
     },
     "execution_count": 17,
     "metadata": {},
     "output_type": "execute_result"
    }
   ],
   "source": [
    "df.columns"
   ]
  },
  {
   "cell_type": "code",
   "execution_count": 18,
   "id": "7c41376a",
   "metadata": {},
   "outputs": [
    {
     "data": {
      "text/plain": [
       "48"
      ]
     },
     "execution_count": 18,
     "metadata": {},
     "output_type": "execute_result"
    }
   ],
   "source": [
    "df['Location'].nunique()"
   ]
  },
  {
   "cell_type": "code",
   "execution_count": 19,
   "id": "fafa4bd9",
   "metadata": {},
   "outputs": [
    {
     "data": {
      "text/html": [
       "<div>\n",
       "<style scoped>\n",
       "    .dataframe tbody tr th:only-of-type {\n",
       "        vertical-align: middle;\n",
       "    }\n",
       "\n",
       "    .dataframe tbody tr th {\n",
       "        vertical-align: top;\n",
       "    }\n",
       "\n",
       "    .dataframe thead th {\n",
       "        text-align: right;\n",
       "    }\n",
       "</style>\n",
       "<table border=\"1\" class=\"dataframe\">\n",
       "  <thead>\n",
       "    <tr style=\"text-align: right;\">\n",
       "      <th></th>\n",
       "      <th>index</th>\n",
       "      <th>Loc_freq</th>\n",
       "    </tr>\n",
       "  </thead>\n",
       "  <tbody>\n",
       "    <tr>\n",
       "      <th>0</th>\n",
       "      <td>Denver</td>\n",
       "      <td>36</td>\n",
       "    </tr>\n",
       "    <tr>\n",
       "      <th>1</th>\n",
       "      <td>Cincinnati</td>\n",
       "      <td>36</td>\n",
       "    </tr>\n",
       "    <tr>\n",
       "      <th>26</th>\n",
       "      <td>Albuquerque</td>\n",
       "      <td>35</td>\n",
       "    </tr>\n",
       "    <tr>\n",
       "      <th>27</th>\n",
       "      <td>Indianapolis</td>\n",
       "      <td>35</td>\n",
       "    </tr>\n",
       "    <tr>\n",
       "      <th>28</th>\n",
       "      <td>Atlanta</td>\n",
       "      <td>35</td>\n",
       "    </tr>\n",
       "  </tbody>\n",
       "</table>\n",
       "</div>"
      ],
      "text/plain": [
       "           index  Loc_freq\n",
       "0         Denver        36\n",
       "1     Cincinnati        36\n",
       "26   Albuquerque        35\n",
       "27  Indianapolis        35\n",
       "28       Atlanta        35"
      ]
     },
     "execution_count": 19,
     "metadata": {},
     "output_type": "execute_result"
    }
   ],
   "source": [
    "vc = df['Location'].value_counts().reset_index(name='Loc_freq') \n",
    "vc = vc.sort_values('Loc_freq', ascending=False)\n",
    "vc.head(5)"
   ]
  },
  {
   "cell_type": "code",
   "execution_count": 20,
   "id": "305630f9",
   "metadata": {},
   "outputs": [
    {
     "data": {
      "text/plain": [
       "array(['Albany', 'Albuquerque', 'Atlanta', 'Austin', 'Baltimore',\n",
       "       'Birmingham', 'Boise', 'Charlotte', 'Chattanooga', 'Chicago',\n",
       "       'Cincinnati', 'Cleveland', 'Colorado', 'Columbia', 'Columbusoh',\n",
       "       'Dayton', 'Denver', 'Evansville', 'Ftcollins', 'Ftworth',\n",
       "       'Grandrapids', 'Greensboro', 'Huntsville', 'Indianapolis',\n",
       "       'Johnsoncity', 'Kansascity', 'Lexington', 'Louisville', 'Macon',\n",
       "       'Memphis', 'Milwaukee', 'Minneapolis', 'Nashville', 'Oklahomacity',\n",
       "       'Omaha', 'Pittsburgh', 'Portland', 'Raleigh', 'Richmondva',\n",
       "       'Rochester', 'Saltlakecity', 'Sanantonio', 'Seattle', 'Southbend',\n",
       "       'Stlouis', 'Toledo', 'Tulsa', 'Wichita'], dtype=object)"
      ]
     },
     "execution_count": 20,
     "metadata": {},
     "output_type": "execute_result"
    }
   ],
   "source": [
    "df.Location.unique()"
   ]
  },
  {
   "cell_type": "code",
   "execution_count": 21,
   "id": "3e092c84",
   "metadata": {},
   "outputs": [
    {
     "data": {
      "text/plain": [
       "1"
      ]
     },
     "execution_count": 21,
     "metadata": {},
     "output_type": "execute_result"
    }
   ],
   "source": [
    "df['Month'].min()"
   ]
  },
  {
   "cell_type": "code",
   "execution_count": 22,
   "id": "c1e23174",
   "metadata": {},
   "outputs": [
    {
     "data": {
      "text/plain": [
       "12"
      ]
     },
     "execution_count": 22,
     "metadata": {},
     "output_type": "execute_result"
    }
   ],
   "source": [
    "df['Month'].max()"
   ]
  },
  {
   "cell_type": "code",
   "execution_count": 23,
   "id": "b8ed696e",
   "metadata": {},
   "outputs": [
    {
     "data": {
      "text/plain": [
       "0.250000    16\n",
       "0.333333    13\n",
       "0.200000     9\n",
       "0.265306     7\n",
       "0.266667     6\n",
       "            ..\n",
       "0.353846     1\n",
       "0.443548     1\n",
       "0.463659     1\n",
       "0.406504     1\n",
       "0.437500     1\n",
       "Name: Conversion.close, Length: 1283, dtype: int64"
      ]
     },
     "execution_count": 23,
     "metadata": {},
     "output_type": "execute_result"
    }
   ],
   "source": [
    "df['Conversion.close'].value_counts()"
   ]
  },
  {
   "cell_type": "code",
   "execution_count": 24,
   "id": "18026f28",
   "metadata": {},
   "outputs": [
    {
     "data": {
      "text/plain": [
       "Date                0\n",
       "Location            0\n",
       "Budget              0\n",
       "CPA                 0\n",
       "APPT.created        0\n",
       "Conversion.ran      0\n",
       "APPT.ran            0\n",
       "Conversion.close    0\n",
       "Orders              0\n",
       "Average.ticket      0\n",
       "Sales               0\n",
       "Day                 0\n",
       "Month               0\n",
       "Year                0\n",
       "State               0\n",
       "Region              0\n",
       "dtype: int64"
      ]
     },
     "execution_count": 24,
     "metadata": {},
     "output_type": "execute_result"
    }
   ],
   "source": [
    "df.isna().sum()"
   ]
  },
  {
   "cell_type": "code",
   "execution_count": 25,
   "id": "cc28d121",
   "metadata": {},
   "outputs": [
    {
     "name": "stdout",
     "output_type": "stream",
     "text": [
      "Before dropping any value (1682, 16)\n",
      "After dropping null value (1682, 16)\n"
     ]
    }
   ],
   "source": [
    "# Dropping rows which have missing 'Budget' values\n",
    "print('Before dropping any value',df.shape)\n",
    "df.dropna(subset=['Budget'], inplace=True)\n",
    "print('After dropping null value',df.shape)"
   ]
  },
  {
   "cell_type": "code",
   "execution_count": 26,
   "id": "6cdfff00",
   "metadata": {},
   "outputs": [
    {
     "data": {
      "text/plain": [
       "Date                0\n",
       "Location            0\n",
       "Budget              0\n",
       "CPA                 0\n",
       "APPT.created        0\n",
       "Conversion.ran      0\n",
       "APPT.ran            0\n",
       "Conversion.close    0\n",
       "Orders              0\n",
       "Average.ticket      0\n",
       "Sales               0\n",
       "Day                 0\n",
       "Month               0\n",
       "Year                0\n",
       "State               0\n",
       "Region              0\n",
       "dtype: int64"
      ]
     },
     "execution_count": 26,
     "metadata": {},
     "output_type": "execute_result"
    }
   ],
   "source": [
    "df.isna().sum()"
   ]
  },
  {
   "cell_type": "code",
   "execution_count": 27,
   "id": "fd71ffc9",
   "metadata": {},
   "outputs": [
    {
     "name": "stdout",
     "output_type": "stream",
     "text": [
      "(1682, 16)\n",
      "(1680, 16)\n"
     ]
    }
   ],
   "source": [
    "print(df.shape)\n",
    "df = df[df['Budget'] >= 0]\n",
    "print(df.shape)"
   ]
  },
  {
   "cell_type": "code",
   "execution_count": 28,
   "id": "6daea1ce",
   "metadata": {},
   "outputs": [],
   "source": [
    "##df = df.rename(columns={'Month': 'Date'})"
   ]
  },
  {
   "cell_type": "code",
   "execution_count": 29,
   "id": "4a56c3fb",
   "metadata": {},
   "outputs": [
    {
     "data": {
      "text/plain": [
       "array([2015, 2016, 2017], dtype=int64)"
      ]
     },
     "execution_count": 29,
     "metadata": {},
     "output_type": "execute_result"
    }
   ],
   "source": [
    "df['Year'].unique()"
   ]
  },
  {
   "cell_type": "code",
   "execution_count": 30,
   "id": "b90e7403",
   "metadata": {},
   "outputs": [],
   "source": [
    "# Define the mapping of values to be replaced\n",
    "value_map = {2015: 2020, 2016: 2021, 2017: 2022}\n",
    "# Replace the values in the column\n",
    "df['Year'] = df['Year'].replace(value_map)\n",
    "# For months\n",
    "m = {1:'Jan',2:'Feb',3:'Mar',4:'Apr',5:'May',6:'Jun',7:'Jul',8:'Aug',9:'Sep',10:'Oct',11:'Nov',12:'Dec'}\n",
    "df['Month m'] = df['Month']\n",
    "df['Month m'] = df['Month m'].replace(m)\n",
    "df['Date'] = df['Year'].astype(str) + '-' + df['Month'].astype(str) + '-' + '1'"
   ]
  },
  {
   "cell_type": "code",
   "execution_count": 31,
   "id": "1a58adb8",
   "metadata": {},
   "outputs": [],
   "source": [
    "from sklearn.preprocessing import OrdinalEncoder\n",
    "encoder = OrdinalEncoder()\n",
    "df[[\"Location_n\"]] = encoder.fit_transform(df[[\"Location\"]])"
   ]
  },
  {
   "cell_type": "code",
   "execution_count": 32,
   "id": "0a912dbf",
   "metadata": {},
   "outputs": [
    {
     "data": {
      "text/html": [
       "<div>\n",
       "<style scoped>\n",
       "    .dataframe tbody tr th:only-of-type {\n",
       "        vertical-align: middle;\n",
       "    }\n",
       "\n",
       "    .dataframe tbody tr th {\n",
       "        vertical-align: top;\n",
       "    }\n",
       "\n",
       "    .dataframe thead th {\n",
       "        text-align: right;\n",
       "    }\n",
       "</style>\n",
       "<table border=\"1\" class=\"dataframe\">\n",
       "  <thead>\n",
       "    <tr style=\"text-align: right;\">\n",
       "      <th></th>\n",
       "      <th>Date</th>\n",
       "      <th>Location</th>\n",
       "      <th>Budget</th>\n",
       "      <th>CPA</th>\n",
       "      <th>APPT.created</th>\n",
       "      <th>Conversion.ran</th>\n",
       "      <th>APPT.ran</th>\n",
       "      <th>Conversion.close</th>\n",
       "      <th>Orders</th>\n",
       "      <th>Average.ticket</th>\n",
       "      <th>Sales</th>\n",
       "      <th>Day</th>\n",
       "      <th>Month</th>\n",
       "      <th>Year</th>\n",
       "      <th>State</th>\n",
       "      <th>Region</th>\n",
       "      <th>Month m</th>\n",
       "      <th>Location_n</th>\n",
       "    </tr>\n",
       "  </thead>\n",
       "  <tbody>\n",
       "    <tr>\n",
       "      <th>0</th>\n",
       "      <td>2020-1-1</td>\n",
       "      <td>Albany</td>\n",
       "      <td>17931.0</td>\n",
       "      <td>717</td>\n",
       "      <td>25.0</td>\n",
       "      <td>0.800000</td>\n",
       "      <td>20.0</td>\n",
       "      <td>0.300000</td>\n",
       "      <td>6.0</td>\n",
       "      <td>4728.0</td>\n",
       "      <td>28368</td>\n",
       "      <td>1</td>\n",
       "      <td>1</td>\n",
       "      <td>2020</td>\n",
       "      <td>New York</td>\n",
       "      <td>Northeast</td>\n",
       "      <td>Jan</td>\n",
       "      <td>0.0</td>\n",
       "    </tr>\n",
       "    <tr>\n",
       "      <th>1</th>\n",
       "      <td>2020-2-1</td>\n",
       "      <td>Albany</td>\n",
       "      <td>33143.0</td>\n",
       "      <td>571</td>\n",
       "      <td>58.0</td>\n",
       "      <td>0.862069</td>\n",
       "      <td>50.0</td>\n",
       "      <td>0.260000</td>\n",
       "      <td>13.0</td>\n",
       "      <td>12533.0</td>\n",
       "      <td>162929</td>\n",
       "      <td>1</td>\n",
       "      <td>2</td>\n",
       "      <td>2020</td>\n",
       "      <td>New York</td>\n",
       "      <td>Northeast</td>\n",
       "      <td>Feb</td>\n",
       "      <td>0.0</td>\n",
       "    </tr>\n",
       "    <tr>\n",
       "      <th>2</th>\n",
       "      <td>2020-3-1</td>\n",
       "      <td>Albany</td>\n",
       "      <td>65600.0</td>\n",
       "      <td>820</td>\n",
       "      <td>80.0</td>\n",
       "      <td>0.875000</td>\n",
       "      <td>70.0</td>\n",
       "      <td>0.242857</td>\n",
       "      <td>17.0</td>\n",
       "      <td>12260.0</td>\n",
       "      <td>208420</td>\n",
       "      <td>1</td>\n",
       "      <td>3</td>\n",
       "      <td>2020</td>\n",
       "      <td>New York</td>\n",
       "      <td>Northeast</td>\n",
       "      <td>Mar</td>\n",
       "      <td>0.0</td>\n",
       "    </tr>\n",
       "    <tr>\n",
       "      <th>3</th>\n",
       "      <td>2020-4-1</td>\n",
       "      <td>Albany</td>\n",
       "      <td>76460.0</td>\n",
       "      <td>490</td>\n",
       "      <td>156.0</td>\n",
       "      <td>0.916667</td>\n",
       "      <td>143.0</td>\n",
       "      <td>0.300699</td>\n",
       "      <td>43.0</td>\n",
       "      <td>7430.0</td>\n",
       "      <td>319490</td>\n",
       "      <td>1</td>\n",
       "      <td>4</td>\n",
       "      <td>2020</td>\n",
       "      <td>New York</td>\n",
       "      <td>Northeast</td>\n",
       "      <td>Apr</td>\n",
       "      <td>0.0</td>\n",
       "    </tr>\n",
       "    <tr>\n",
       "      <th>4</th>\n",
       "      <td>2020-5-1</td>\n",
       "      <td>Albany</td>\n",
       "      <td>77819.0</td>\n",
       "      <td>894</td>\n",
       "      <td>87.0</td>\n",
       "      <td>1.218391</td>\n",
       "      <td>106.0</td>\n",
       "      <td>0.216981</td>\n",
       "      <td>23.0</td>\n",
       "      <td>12322.0</td>\n",
       "      <td>283406</td>\n",
       "      <td>1</td>\n",
       "      <td>5</td>\n",
       "      <td>2020</td>\n",
       "      <td>New York</td>\n",
       "      <td>Northeast</td>\n",
       "      <td>May</td>\n",
       "      <td>0.0</td>\n",
       "    </tr>\n",
       "  </tbody>\n",
       "</table>\n",
       "</div>"
      ],
      "text/plain": [
       "       Date Location   Budget  CPA  APPT.created  Conversion.ran  APPT.ran  \\\n",
       "0  2020-1-1   Albany  17931.0  717          25.0        0.800000      20.0   \n",
       "1  2020-2-1   Albany  33143.0  571          58.0        0.862069      50.0   \n",
       "2  2020-3-1   Albany  65600.0  820          80.0        0.875000      70.0   \n",
       "3  2020-4-1   Albany  76460.0  490         156.0        0.916667     143.0   \n",
       "4  2020-5-1   Albany  77819.0  894          87.0        1.218391     106.0   \n",
       "\n",
       "   Conversion.close  Orders  Average.ticket   Sales  Day   Month  Year  \\\n",
       "0          0.300000     6.0          4728.0   28368     1      1  2020   \n",
       "1          0.260000    13.0         12533.0  162929     1      2  2020   \n",
       "2          0.242857    17.0         12260.0  208420     1      3  2020   \n",
       "3          0.300699    43.0          7430.0  319490     1      4  2020   \n",
       "4          0.216981    23.0         12322.0  283406     1      5  2020   \n",
       "\n",
       "      State     Region Month m  Location_n  \n",
       "0  New York  Northeast     Jan         0.0  \n",
       "1  New York  Northeast     Feb         0.0  \n",
       "2  New York  Northeast     Mar         0.0  \n",
       "3  New York  Northeast     Apr         0.0  \n",
       "4  New York  Northeast     May         0.0  "
      ]
     },
     "execution_count": 32,
     "metadata": {},
     "output_type": "execute_result"
    }
   ],
   "source": [
    "df.head(5)"
   ]
  },
  {
   "cell_type": "code",
   "execution_count": 33,
   "id": "f685a6b2",
   "metadata": {
    "scrolled": true
   },
   "outputs": [
    {
     "name": "stderr",
     "output_type": "stream",
     "text": [
      "C:\\Users\\Dishita Neve\\AppData\\Local\\Temp\\ipykernel_21996\\2159467920.py:2: SettingWithCopyWarning: \n",
      "A value is trying to be set on a copy of a slice from a DataFrame\n",
      "\n",
      "See the caveats in the documentation: https://pandas.pydata.org/pandas-docs/stable/user_guide/indexing.html#returning-a-view-versus-a-copy\n",
      "  k.drop_duplicates(inplace=True)\n"
     ]
    }
   ],
   "source": [
    "k = df[['Location','Location_n']]\n",
    "k.drop_duplicates(inplace=True)"
   ]
  },
  {
   "cell_type": "code",
   "execution_count": 34,
   "id": "8d0395fb",
   "metadata": {},
   "outputs": [
    {
     "data": {
      "text/plain": [
       "['Albany',\n",
       " 'Albuquerque',\n",
       " 'Atlanta',\n",
       " 'Austin',\n",
       " 'Baltimore',\n",
       " 'Birmingham',\n",
       " 'Boise',\n",
       " 'Charlotte',\n",
       " 'Chattanooga',\n",
       " 'Chicago',\n",
       " 'Cincinnati',\n",
       " 'Cleveland',\n",
       " 'Colorado',\n",
       " 'Columbia',\n",
       " 'Columbusoh',\n",
       " 'Dayton',\n",
       " 'Denver',\n",
       " 'Evansville',\n",
       " 'Ftcollins',\n",
       " 'Ftworth',\n",
       " 'Grandrapids',\n",
       " 'Greensboro',\n",
       " 'Huntsville',\n",
       " 'Indianapolis',\n",
       " 'Johnsoncity',\n",
       " 'Kansascity',\n",
       " 'Lexington',\n",
       " 'Louisville',\n",
       " 'Macon',\n",
       " 'Memphis',\n",
       " 'Milwaukee',\n",
       " 'Minneapolis',\n",
       " 'Nashville',\n",
       " 'Oklahomacity',\n",
       " 'Omaha',\n",
       " 'Pittsburgh',\n",
       " 'Portland',\n",
       " 'Raleigh',\n",
       " 'Richmondva',\n",
       " 'Rochester',\n",
       " 'Saltlakecity',\n",
       " 'Sanantonio',\n",
       " 'Seattle',\n",
       " 'Southbend',\n",
       " 'Stlouis',\n",
       " 'Toledo',\n",
       " 'Tulsa',\n",
       " 'Wichita']"
      ]
     },
     "execution_count": 34,
     "metadata": {},
     "output_type": "execute_result"
    }
   ],
   "source": [
    "k['Location'].tolist()"
   ]
  },
  {
   "cell_type": "code",
   "execution_count": 35,
   "id": "ed5ebeb6",
   "metadata": {},
   "outputs": [
    {
     "data": {
      "text/plain": [
       "Index(['Location', 'Location_n'], dtype='object')"
      ]
     },
     "execution_count": 35,
     "metadata": {},
     "output_type": "execute_result"
    }
   ],
   "source": [
    "k.columns"
   ]
  },
  {
   "cell_type": "code",
   "execution_count": 36,
   "id": "f46a242b",
   "metadata": {},
   "outputs": [
    {
     "name": "stdout",
     "output_type": "stream",
     "text": [
      "{'Albany': 0.0, 'Albuquerque': 1.0, 'Atlanta': 2.0, 'Austin': 3.0, 'Baltimore': 4.0, 'Birmingham': 5.0, 'Boise': 6.0, 'Charlotte': 7.0, 'Chattanooga': 8.0, 'Chicago': 9.0, 'Cincinnati': 10.0, 'Cleveland': 11.0, 'Colorado': 12.0, 'Columbia': 13.0, 'Columbusoh': 14.0, 'Dayton': 15.0, 'Denver': 16.0, 'Evansville': 17.0, 'Ftcollins': 18.0, 'Ftworth': 19.0, 'Grandrapids': 20.0, 'Greensboro': 21.0, 'Huntsville': 22.0, 'Indianapolis': 23.0, 'Johnsoncity': 24.0, 'Kansascity': 25.0, 'Lexington': 26.0, 'Louisville': 27.0, 'Macon': 28.0, 'Memphis': 29.0, 'Milwaukee': 30.0, 'Minneapolis': 31.0, 'Nashville': 32.0, 'Oklahomacity': 33.0, 'Omaha': 34.0, 'Pittsburgh': 35.0, 'Portland': 36.0, 'Raleigh': 37.0, 'Richmondva': 38.0, 'Rochester': 39.0, 'Saltlakecity': 40.0, 'Sanantonio': 41.0, 'Seattle': 42.0, 'Southbend': 43.0, 'Stlouis': 44.0, 'Toledo': 45.0, 'Tulsa': 46.0, 'Wichita': 47.0}\n"
     ]
    }
   ],
   "source": [
    "a = k['Location']\n",
    "b = k['Location_n']\n",
    "\n",
    "my_dict = {key: value for key, value in zip(a,b)}\n",
    "\n",
    "# Print the dictionary\n",
    "print(my_dict)\n"
   ]
  },
  {
   "cell_type": "code",
   "execution_count": 38,
   "id": "fa44d7ca",
   "metadata": {},
   "outputs": [],
   "source": [
    "df = df.rename(columns={'Location': 'City'})\n",
    "df['CPA'] = df['Budget']/df['APPT.created']\n",
    "df['CPA'] = df['CPA'].round()\n",
    "df['Conversion.ran'] = df['Conversion.ran'].round(2)\n",
    "df['Conversion.close'] = df['Conversion.close'].round(2)"
   ]
  },
  {
   "cell_type": "code",
   "execution_count": 39,
   "id": "79bdb67a",
   "metadata": {},
   "outputs": [
    {
     "data": {
      "text/plain": [
       "Index(['Date', 'City', 'Budget', 'CPA', 'APPT.created', 'Conversion.ran',\n",
       "       'APPT.ran', 'Conversion.close', 'Orders', 'Average.ticket', 'Sales',\n",
       "       'Day ', 'Month', 'Year', 'State', 'Region', 'Month m', 'Location_n'],\n",
       "      dtype='object')"
      ]
     },
     "execution_count": 39,
     "metadata": {},
     "output_type": "execute_result"
    }
   ],
   "source": [
    "df.columns"
   ]
  },
  {
   "cell_type": "code",
   "execution_count": 40,
   "id": "f6bacc38",
   "metadata": {},
   "outputs": [
    {
     "data": {
      "text/html": [
       "<div>\n",
       "<style scoped>\n",
       "    .dataframe tbody tr th:only-of-type {\n",
       "        vertical-align: middle;\n",
       "    }\n",
       "\n",
       "    .dataframe tbody tr th {\n",
       "        vertical-align: top;\n",
       "    }\n",
       "\n",
       "    .dataframe thead th {\n",
       "        text-align: right;\n",
       "    }\n",
       "</style>\n",
       "<table border=\"1\" class=\"dataframe\">\n",
       "  <thead>\n",
       "    <tr style=\"text-align: right;\">\n",
       "      <th></th>\n",
       "      <th>Date</th>\n",
       "      <th>City</th>\n",
       "      <th>Budget</th>\n",
       "      <th>CPA</th>\n",
       "      <th>APPT.created</th>\n",
       "      <th>Conversion.ran</th>\n",
       "      <th>APPT.ran</th>\n",
       "      <th>Conversion.close</th>\n",
       "      <th>Orders</th>\n",
       "      <th>Average.ticket</th>\n",
       "      <th>Sales</th>\n",
       "      <th>Day</th>\n",
       "      <th>Month</th>\n",
       "      <th>Year</th>\n",
       "      <th>State</th>\n",
       "      <th>Region</th>\n",
       "      <th>Month m</th>\n",
       "      <th>Location_n</th>\n",
       "    </tr>\n",
       "  </thead>\n",
       "  <tbody>\n",
       "    <tr>\n",
       "      <th>0</th>\n",
       "      <td>2020-1-1</td>\n",
       "      <td>Albany</td>\n",
       "      <td>17931.0</td>\n",
       "      <td>717.0</td>\n",
       "      <td>25.0</td>\n",
       "      <td>0.80</td>\n",
       "      <td>20.0</td>\n",
       "      <td>0.30</td>\n",
       "      <td>6.0</td>\n",
       "      <td>4728.0</td>\n",
       "      <td>28368</td>\n",
       "      <td>1</td>\n",
       "      <td>1</td>\n",
       "      <td>2020</td>\n",
       "      <td>New York</td>\n",
       "      <td>Northeast</td>\n",
       "      <td>Jan</td>\n",
       "      <td>0.0</td>\n",
       "    </tr>\n",
       "    <tr>\n",
       "      <th>1</th>\n",
       "      <td>2020-2-1</td>\n",
       "      <td>Albany</td>\n",
       "      <td>33143.0</td>\n",
       "      <td>571.0</td>\n",
       "      <td>58.0</td>\n",
       "      <td>0.86</td>\n",
       "      <td>50.0</td>\n",
       "      <td>0.26</td>\n",
       "      <td>13.0</td>\n",
       "      <td>12533.0</td>\n",
       "      <td>162929</td>\n",
       "      <td>1</td>\n",
       "      <td>2</td>\n",
       "      <td>2020</td>\n",
       "      <td>New York</td>\n",
       "      <td>Northeast</td>\n",
       "      <td>Feb</td>\n",
       "      <td>0.0</td>\n",
       "    </tr>\n",
       "    <tr>\n",
       "      <th>2</th>\n",
       "      <td>2020-3-1</td>\n",
       "      <td>Albany</td>\n",
       "      <td>65600.0</td>\n",
       "      <td>820.0</td>\n",
       "      <td>80.0</td>\n",
       "      <td>0.88</td>\n",
       "      <td>70.0</td>\n",
       "      <td>0.24</td>\n",
       "      <td>17.0</td>\n",
       "      <td>12260.0</td>\n",
       "      <td>208420</td>\n",
       "      <td>1</td>\n",
       "      <td>3</td>\n",
       "      <td>2020</td>\n",
       "      <td>New York</td>\n",
       "      <td>Northeast</td>\n",
       "      <td>Mar</td>\n",
       "      <td>0.0</td>\n",
       "    </tr>\n",
       "    <tr>\n",
       "      <th>3</th>\n",
       "      <td>2020-4-1</td>\n",
       "      <td>Albany</td>\n",
       "      <td>76460.0</td>\n",
       "      <td>490.0</td>\n",
       "      <td>156.0</td>\n",
       "      <td>0.92</td>\n",
       "      <td>143.0</td>\n",
       "      <td>0.30</td>\n",
       "      <td>43.0</td>\n",
       "      <td>7430.0</td>\n",
       "      <td>319490</td>\n",
       "      <td>1</td>\n",
       "      <td>4</td>\n",
       "      <td>2020</td>\n",
       "      <td>New York</td>\n",
       "      <td>Northeast</td>\n",
       "      <td>Apr</td>\n",
       "      <td>0.0</td>\n",
       "    </tr>\n",
       "    <tr>\n",
       "      <th>4</th>\n",
       "      <td>2020-5-1</td>\n",
       "      <td>Albany</td>\n",
       "      <td>77819.0</td>\n",
       "      <td>894.0</td>\n",
       "      <td>87.0</td>\n",
       "      <td>1.22</td>\n",
       "      <td>106.0</td>\n",
       "      <td>0.22</td>\n",
       "      <td>23.0</td>\n",
       "      <td>12322.0</td>\n",
       "      <td>283406</td>\n",
       "      <td>1</td>\n",
       "      <td>5</td>\n",
       "      <td>2020</td>\n",
       "      <td>New York</td>\n",
       "      <td>Northeast</td>\n",
       "      <td>May</td>\n",
       "      <td>0.0</td>\n",
       "    </tr>\n",
       "  </tbody>\n",
       "</table>\n",
       "</div>"
      ],
      "text/plain": [
       "       Date    City   Budget    CPA  APPT.created  Conversion.ran  APPT.ran  \\\n",
       "0  2020-1-1  Albany  17931.0  717.0          25.0            0.80      20.0   \n",
       "1  2020-2-1  Albany  33143.0  571.0          58.0            0.86      50.0   \n",
       "2  2020-3-1  Albany  65600.0  820.0          80.0            0.88      70.0   \n",
       "3  2020-4-1  Albany  76460.0  490.0         156.0            0.92     143.0   \n",
       "4  2020-5-1  Albany  77819.0  894.0          87.0            1.22     106.0   \n",
       "\n",
       "   Conversion.close  Orders  Average.ticket   Sales  Day   Month  Year  \\\n",
       "0              0.30     6.0          4728.0   28368     1      1  2020   \n",
       "1              0.26    13.0         12533.0  162929     1      2  2020   \n",
       "2              0.24    17.0         12260.0  208420     1      3  2020   \n",
       "3              0.30    43.0          7430.0  319490     1      4  2020   \n",
       "4              0.22    23.0         12322.0  283406     1      5  2020   \n",
       "\n",
       "      State     Region Month m  Location_n  \n",
       "0  New York  Northeast     Jan         0.0  \n",
       "1  New York  Northeast     Feb         0.0  \n",
       "2  New York  Northeast     Mar         0.0  \n",
       "3  New York  Northeast     Apr         0.0  \n",
       "4  New York  Northeast     May         0.0  "
      ]
     },
     "execution_count": 40,
     "metadata": {},
     "output_type": "execute_result"
    }
   ],
   "source": [
    "df.head(5)"
   ]
  },
  {
   "cell_type": "code",
   "execution_count": 41,
   "id": "3deab99a",
   "metadata": {},
   "outputs": [],
   "source": [
    "df.to_excel('C:/Users/Dishita Neve/Sales_Forecast/Input/Data_Cleaning.xlsx',index= False)"
   ]
  },
  {
   "cell_type": "code",
   "execution_count": null,
   "id": "b3a81da0",
   "metadata": {},
   "outputs": [],
   "source": []
  },
  {
   "cell_type": "code",
   "execution_count": null,
   "id": "7531810a",
   "metadata": {},
   "outputs": [],
   "source": []
  },
  {
   "cell_type": "code",
   "execution_count": null,
   "id": "ac866e72",
   "metadata": {},
   "outputs": [],
   "source": []
  },
  {
   "cell_type": "code",
   "execution_count": null,
   "id": "5aded33e",
   "metadata": {},
   "outputs": [],
   "source": []
  },
  {
   "cell_type": "code",
   "execution_count": 36,
   "id": "7322f623",
   "metadata": {},
   "outputs": [],
   "source": [
    "#df = df.drop('Location_n', axis=1)\n",
    "#df[[\"Location\"]] = encoder.fit_transform(df[[\"Location\"]])"
   ]
  },
  {
   "cell_type": "code",
   "execution_count": 37,
   "id": "0ce5f480",
   "metadata": {},
   "outputs": [],
   "source": [
    "def assign_category(order):\n",
    "    if order > 100:\n",
    "        return 1\n",
    "    elif order > 200:\n",
    "        return 2\n",
    "    elif order > 300 :\n",
    "        return 3\n",
    "    elif order == 0 :\n",
    "        return 0\n",
    "    else:\n",
    "        return 4\n",
    "    \n",
    "    \n",
    "def assign_seasonality(order):\n",
    "    if order in [11,12,1,2]:\n",
    "        return 1\n",
    "    elif order in [3,4,5,6]:\n",
    "        return 2\n",
    "    elif order in [7,8,9,10] :\n",
    "        return 3\n",
    "    \n",
    "\n",
    "df['category'] = df['Orders'].apply(assign_category)\n",
    "df['seasonality'] = df['month'].apply(assign_seasonality)"
   ]
  },
  {
   "cell_type": "code",
   "execution_count": 38,
   "id": "2f07544e",
   "metadata": {},
   "outputs": [
    {
     "data": {
      "text/plain": [
       "Index(['Date', 'Location', 'Budget', 'CPA', 'APPT.created', 'Conversion.ran',\n",
       "       'APPT.ran', 'Conversion.close', 'Orders', 'Average.ticket', 'Sales',\n",
       "       'State', 'Region', 'Year', 'month', 'category', 'seasonality'],\n",
       "      dtype='object')"
      ]
     },
     "execution_count": 38,
     "metadata": {},
     "output_type": "execute_result"
    }
   ],
   "source": [
    "df.columns"
   ]
  },
  {
   "cell_type": "code",
   "execution_count": 39,
   "id": "e77faa19",
   "metadata": {},
   "outputs": [],
   "source": [
    "X = df[['Location_n','Budget','Year','CPA','Month','category', 'seasonality']]\n",
    "y = df[['Sales']]"
   ]
  },
  {
   "cell_type": "code",
   "execution_count": 40,
   "id": "01df330b",
   "metadata": {},
   "outputs": [
    {
     "data": {
      "text/plain": [
       "(1682, 7)"
      ]
     },
     "execution_count": 40,
     "metadata": {},
     "output_type": "execute_result"
    }
   ],
   "source": [
    "X.shape"
   ]
  },
  {
   "cell_type": "code",
   "execution_count": 41,
   "id": "4841f8bd",
   "metadata": {},
   "outputs": [],
   "source": [
    "X_train = X #X[:1900]\n",
    "y_train = y #y[:1900]\n",
    "X_test =  X\n",
    "y_test =  y"
   ]
  },
  {
   "cell_type": "code",
   "execution_count": 42,
   "id": "64bc230c",
   "metadata": {},
   "outputs": [
    {
     "data": {
      "text/plain": [
       "Index(['Location', 'Budget', 'Year', 'CPA', 'month', 'category',\n",
       "       'seasonality'],\n",
       "      dtype='object')"
      ]
     },
     "execution_count": 42,
     "metadata": {},
     "output_type": "execute_result"
    }
   ],
   "source": [
    "X.columns"
   ]
  },
  {
   "cell_type": "code",
   "execution_count": 43,
   "id": "340786a0",
   "metadata": {},
   "outputs": [
    {
     "name": "stdout",
     "output_type": "stream",
     "text": [
      "Mean Squared Error: 0.0\n",
      "Root Mean Square Error 0.0\n",
      "Mean Absolute Error :  0.0\n",
      "Accuracy is :  1.0\n"
     ]
    }
   ],
   "source": [
    "from sklearn.tree import DecisionTreeRegressor\n",
    "from sklearn.metrics import mean_squared_error,r2_score,mean_absolute_error\n",
    "\n",
    "regressor = DecisionTreeRegressor()\n",
    "# Training the decision tree regressor model\n",
    "regressor.fit(X_train, y_train)\n",
    "# Making predictions on the test set\n",
    "y_pred_dt = regressor.predict(X_test)\n",
    "\n",
    "mse = round(mean_squared_error(y_test, y_pred_dt),2)\n",
    "print(\"Mean Squared Error:\", mse)\n",
    "\n",
    "rmse = round(np.sqrt(mse),2)\n",
    "print(\"Root Mean Square Error\",rmse)\n",
    "\n",
    "mae = round(mean_absolute_error(y_test, y_pred_dt),2)\n",
    "print(\"Mean Absolute Error : \", mae)\n",
    "\n",
    "r2 = round(r2_score(y_test, y_pred_dt),2)\n",
    "print(\"Accuracy is : \", r2)"
   ]
  },
  {
   "cell_type": "code",
   "execution_count": 44,
   "id": "37df30c5",
   "metadata": {},
   "outputs": [
    {
     "name": "stdout",
     "output_type": "stream",
     "text": [
      "Mean Squared Error: 0.0\n",
      "Root Mean Square Error 0.0\n",
      "Mean Absolute Error :  0.0\n",
      "Accuracy is :  1.0\n"
     ]
    }
   ],
   "source": [
    "from sklearn.ensemble import RandomForestRegressor\n",
    "\n",
    "reg_rf = DecisionTreeRegressor()\n",
    "# Training the decision tree regressor model\n",
    "reg_rf.fit(X_train, y_train)\n",
    "# Making predictions on the test set\n",
    "y_pred_rf = reg_rf.predict(X_test)\n",
    "\n",
    "mse = round(mean_squared_error(y_test, y_pred_rf),2)\n",
    "print(\"Mean Squared Error:\", mse)\n",
    "\n",
    "rmse = round(np.sqrt(mse),2)\n",
    "print(\"Root Mean Square Error\",rmse)\n",
    "\n",
    "mae = round(mean_absolute_error(y_test, y_pred_rf),2)\n",
    "print(\"Mean Absolute Error : \", mae)\n",
    "\n",
    "r2 = round(r2_score(y_test, y_pred_rf),2)\n",
    "print(\"Accuracy is : \", r2)"
   ]
  },
  {
   "cell_type": "code",
   "execution_count": 45,
   "id": "28a9ff55",
   "metadata": {},
   "outputs": [
    {
     "name": "stdout",
     "output_type": "stream",
     "text": [
      "Mean Squared Error: 780482436.88\n",
      "Root Mean Square Error 27937.12\n",
      "Mean Absolute Error :  20025.02\n",
      "Accuracy is :  0.99\n"
     ]
    }
   ],
   "source": [
    "import xgboost as xgb\n",
    "regressor = xgb.XGBRegressor()\n",
    "# Training the decision tree regressor model\n",
    "regressor.fit(X_train, y_train)\n",
    "# Making predictions on the test set\n",
    "y_pred_xgb = regressor.predict(X_test)\n",
    "\n",
    "y_pred_xgb  = np.round(y_pred_xgb)\n",
    "mse = round(mean_squared_error(y_test, y_pred_xgb),2)\n",
    "print(\"Mean Squared Error:\", mse)\n",
    "\n",
    "rmse = round(np.sqrt(mse),2)\n",
    "print(\"Root Mean Square Error\",rmse)\n",
    "\n",
    "mae = round(mean_absolute_error(y_test, y_pred_xgb),2)\n",
    "print(\"Mean Absolute Error : \", mae)\n",
    "\n",
    "r2 = round(r2_score(y_test, y_pred_xgb),2)\n",
    "print(\"Accuracy is : \", r2)"
   ]
  },
  {
   "cell_type": "code",
   "execution_count": 46,
   "id": "acd2c853",
   "metadata": {},
   "outputs": [
    {
     "name": "stdout",
     "output_type": "stream",
     "text": [
      "0.07042547208680926\n"
     ]
    }
   ],
   "source": [
    "from sklearn.metrics import mean_absolute_percentage_error\n",
    "print(mean_absolute_percentage_error(y_test,y_pred_xgb))"
   ]
  },
  {
   "cell_type": "code",
   "execution_count": 47,
   "id": "ba29bc9b",
   "metadata": {},
   "outputs": [],
   "source": [
    "import pickle\n",
    "with open('sales_forecast.pkl', 'wb') as file:\n",
    "    #pickle.dump(regressor,file)\n",
    "    pickle.dump(reg_rf,file)"
   ]
  },
  {
   "cell_type": "code",
   "execution_count": 48,
   "id": "16e77a06",
   "metadata": {},
   "outputs": [
    {
     "data": {
      "text/plain": [
       "462825.1"
      ]
     },
     "execution_count": 48,
     "metadata": {},
     "output_type": "execute_result"
    }
   ],
   "source": [
    "y_pred_xgb.mean()"
   ]
  },
  {
   "cell_type": "code",
   "execution_count": 49,
   "id": "113ff11a",
   "metadata": {},
   "outputs": [
    {
     "data": {
      "text/plain": [
       "Sales    45.622065\n",
       "dtype: float64"
      ]
     },
     "execution_count": 49,
     "metadata": {},
     "output_type": "execute_result"
    }
   ],
   "source": [
    "y_test.mean()-y_pred_xgb.mean()"
   ]
  },
  {
   "cell_type": "code",
   "execution_count": 50,
   "id": "7a80f7e5",
   "metadata": {},
   "outputs": [
    {
     "data": {
      "text/plain": [
       "45.622064506518655"
      ]
     },
     "execution_count": 50,
     "metadata": {},
     "output_type": "execute_result"
    }
   ],
   "source": [
    "y_test.mean().values[0] -y_pred_xgb.mean()"
   ]
  },
  {
   "cell_type": "code",
   "execution_count": 51,
   "id": "7aa6cc6e",
   "metadata": {},
   "outputs": [
    {
     "data": {
      "text/plain": [
       "Index(['Date', 'Location', 'Budget', 'CPA', 'APPT.created', 'Conversion.ran',\n",
       "       'APPT.ran', 'Conversion.close', 'Orders', 'Average.ticket', 'Sales',\n",
       "       'State', 'Region', 'Year', 'month', 'category', 'seasonality'],\n",
       "      dtype='object')"
      ]
     },
     "execution_count": 51,
     "metadata": {},
     "output_type": "execute_result"
    }
   ],
   "source": [
    "df.columns"
   ]
  },
  {
   "cell_type": "code",
   "execution_count": null,
   "id": "05a5d45b",
   "metadata": {},
   "outputs": [],
   "source": [
    "  "
   ]
  }
 ],
 "metadata": {
  "kernelspec": {
   "display_name": "Python 3 (ipykernel)",
   "language": "python",
   "name": "python3"
  },
  "language_info": {
   "codemirror_mode": {
    "name": "ipython",
    "version": 3
   },
   "file_extension": ".py",
   "mimetype": "text/x-python",
   "name": "python",
   "nbconvert_exporter": "python",
   "pygments_lexer": "ipython3",
   "version": "3.9.13"
  }
 },
 "nbformat": 4,
 "nbformat_minor": 5
}
