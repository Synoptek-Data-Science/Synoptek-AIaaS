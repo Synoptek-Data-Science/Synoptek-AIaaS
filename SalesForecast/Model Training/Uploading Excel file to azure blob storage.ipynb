{
 "cells": [
  {
   "cell_type": "code",
   "execution_count": null,
   "id": "3ecc784b",
   "metadata": {},
   "outputs": [],
   "source": [
    "#!pip install azure-storage-blob"
   ]
  },
  {
   "cell_type": "code",
   "execution_count": 1,
   "id": "fa27736f",
   "metadata": {},
   "outputs": [],
   "source": [
    "from azure.storage.blob import BlobServiceClient"
   ]
  },
  {
   "cell_type": "code",
   "execution_count": 2,
   "id": "bc1ec988",
   "metadata": {},
   "outputs": [],
   "source": [
    "storage_account_key = \"au1ILM4mgDLjn2qwQULEzMTnwTaX91Ko2si2Ge9HyxRLjyEGXE5G7uSzfc+IiPvFZP84AYyAouJ++ASt5WOQvw==\"\n",
    "storage_account_name = \"dishitasalesforecast\"\n",
    "connection_string = \"DefaultEndpointsProtocol=https;AccountName=dishitasalesforecast;AccountKey=au1ILM4mgDLjn2qwQULEzMTnwTaX91Ko2si2Ge9HyxRLjyEGXE5G7uSzfc+IiPvFZP84AYyAouJ++ASt5WOQvw==;EndpointSuffix=core.windows.net\"\n",
    "container_name = \"dishita-sales-forecast-streamlit\""
   ]
  },
  {
   "cell_type": "code",
   "execution_count": 6,
   "id": "3bdcbd1b",
   "metadata": {},
   "outputs": [],
   "source": [
    "def uploadToBlobStorage(file_path,file_name):\n",
    "    blob_service_client = BlobServiceClient.from_connection_string(connection_string)\n",
    "    blob_client = blob_service_client.get_blob_client(container=container_name, blob=file_name)\n",
    "    with open(file_path,\"rb\") as data:\n",
    "        blob_client.upload_blob(data)\n",
    "        print(f\"Uploaded {file_name}.\")"
   ]
  },
  {
   "cell_type": "code",
   "execution_count": 8,
   "id": "571f4494",
   "metadata": {},
   "outputs": [
    {
     "name": "stdout",
     "output_type": "stream",
     "text": [
      "Uploaded Streamlit_Output.xlsx.\n"
     ]
    }
   ],
   "source": [
    "# calling a function to perform upload\n",
    "PATH_OF_FILE_TO_UPLOAD = 'C:/Users/Dishita Neve/Sales_Forecast/Input/Streamlit_Output.xlsx'\n",
    "FILE_NAME = 'Streamlit_Output.xlsx'\n",
    "uploadToBlobStorage(PATH_OF_FILE_TO_UPLOAD,FILE_NAME)"
   ]
  },
  {
   "cell_type": "code",
   "execution_count": null,
   "id": "3d24e7dc",
   "metadata": {},
   "outputs": [],
   "source": []
  }
 ],
 "metadata": {
  "kernelspec": {
   "display_name": "Python 3 (ipykernel)",
   "language": "python",
   "name": "python3"
  },
  "language_info": {
   "codemirror_mode": {
    "name": "ipython",
    "version": 3
   },
   "file_extension": ".py",
   "mimetype": "text/x-python",
   "name": "python",
   "nbconvert_exporter": "python",
   "pygments_lexer": "ipython3",
   "version": "3.9.13"
  }
 },
 "nbformat": 4,
 "nbformat_minor": 5
}
