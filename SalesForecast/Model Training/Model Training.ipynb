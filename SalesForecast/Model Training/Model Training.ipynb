{
 "cells": [
  {
   "cell_type": "code",
   "execution_count": 1,
   "id": "2f2e03bb",
   "metadata": {},
   "outputs": [],
   "source": [
    "import pandas as pd\n",
    "import numpy as np\n",
    "import time\n",
    "import pickle\n",
    "from sklearn.tree import DecisionTreeRegressor\n",
    "from sklearn.ensemble import RandomForestRegressor\n",
    "from sklearn.metrics import mean_squared_error,r2_score,mean_absolute_error\n",
    "\n",
    "df = pd.read_excel('C:/Users/Dishita Neve/Sales_Forecast/Input/Data_Cleaning.xlsx')"
   ]
  },
  {
   "cell_type": "code",
   "execution_count": 2,
   "id": "96d541a8",
   "metadata": {},
   "outputs": [],
   "source": [
    "def assign_category(order):\n",
    "    if order > 100:\n",
    "        return 1\n",
    "    elif order > 200:\n",
    "        return 2\n",
    "    elif order > 300 :\n",
    "        return 3\n",
    "    elif order == 0 :\n",
    "        return 0\n",
    "    else:\n",
    "        return 4\n",
    "    \n",
    "    \n",
    "def assign_seasonality(order):\n",
    "    if order in [11,12,1,2]:\n",
    "        return 1\n",
    "    elif order in [3,4,5,6]:\n",
    "        return 2\n",
    "    elif order in [7,8,9,10] :\n",
    "        return 3\n",
    "    \n",
    "\n",
    "df['category'] = df['Orders'].apply(assign_category)\n",
    "df['seasonality'] = df['Month'].apply(assign_seasonality)"
   ]
  },
  {
   "cell_type": "code",
   "execution_count": 3,
   "id": "1c0b1ab4",
   "metadata": {},
   "outputs": [
    {
     "data": {
      "text/plain": [
       "Index(['Date', 'City', 'Budget', 'CPA', 'APPT.created', 'Conversion.ran',\n",
       "       'APPT.ran', 'Conversion.close', 'Orders', 'Average.ticket', 'Sales',\n",
       "       'Day ', 'Month', 'Year', 'State', 'Region', 'Month m', 'Location_n',\n",
       "       'category', 'seasonality'],\n",
       "      dtype='object')"
      ]
     },
     "execution_count": 3,
     "metadata": {},
     "output_type": "execute_result"
    }
   ],
   "source": [
    "df.columns"
   ]
  },
  {
   "cell_type": "markdown",
   "id": "acc16ce6",
   "metadata": {},
   "source": [
    "## APPT.created"
   ]
  },
  {
   "cell_type": "code",
   "execution_count": 4,
   "id": "cb16d739",
   "metadata": {},
   "outputs": [],
   "source": [
    "X = df[['Location_n','Budget','Year','Month','seasonality']]\n",
    "y = df[['APPT.created']]"
   ]
  },
  {
   "cell_type": "code",
   "execution_count": 5,
   "id": "a98baa46",
   "metadata": {},
   "outputs": [],
   "source": [
    "X_train = X #X[:1900]\n",
    "y_train = y #y[:1900]\n",
    "X_test =  X\n",
    "y_test =  y"
   ]
  },
  {
   "cell_type": "code",
   "execution_count": 6,
   "id": "2d222695",
   "metadata": {},
   "outputs": [
    {
     "name": "stdout",
     "output_type": "stream",
     "text": [
      "Mean Squared Error: 108.07\n",
      "Root Mean Square Error 10.4\n",
      "Mean Absolute Error :  7.49\n",
      "Accuracy is :  0.99\n"
     ]
    }
   ],
   "source": [
    "import xgboost as xgb\n",
    "regressor = xgb.XGBRegressor()\n",
    "# Training the decision tree regressor model\n",
    "regressor.fit(X_train, y_train)\n",
    "# Making predictions on the test set\n",
    "y_pred_xgb = regressor.predict(X_test)\n",
    "\n",
    "y_pred_xgb  = np.round(y_pred_xgb)\n",
    "mse = round(mean_squared_error(y_test, y_pred_xgb),2)\n",
    "print(\"Mean Squared Error:\", mse)\n",
    "\n",
    "rmse = round(np.sqrt(mse),2)\n",
    "print(\"Root Mean Square Error\",rmse)\n",
    "\n",
    "mae = round(mean_absolute_error(y_test, y_pred_xgb),2)\n",
    "print(\"Mean Absolute Error : \", mae)\n",
    "\n",
    "r2 = round(r2_score(y_test, y_pred_xgb),2)\n",
    "print(\"Accuracy is : \", r2)"
   ]
  },
  {
   "cell_type": "code",
   "execution_count": 7,
   "id": "4c90325a",
   "metadata": {},
   "outputs": [
    {
     "name": "stdout",
     "output_type": "stream",
     "text": [
      "Mean Squared Error: 0.0\n",
      "Root Mean Square Error 0.0\n",
      "Mean Absolute Error :  0.0\n",
      "Accuracy is :  1.0\n"
     ]
    }
   ],
   "source": [
    "reg_rf = DecisionTreeRegressor()\n",
    "# Training the decision tree regressor model\n",
    "reg_rf.fit(X_train, y_train)\n",
    "# Making predictions on the test set\n",
    "y_pred_rf = reg_rf.predict(X_test)\n",
    "\n",
    "mse = round(mean_squared_error(y_test, y_pred_rf),2)\n",
    "print(\"Mean Squared Error:\", mse)\n",
    "\n",
    "rmse = round(np.sqrt(mse),2)\n",
    "print(\"Root Mean Square Error\",rmse)\n",
    "\n",
    "mae = round(mean_absolute_error(y_test, y_pred_rf),2)\n",
    "print(\"Mean Absolute Error : \", mae)\n",
    "\n",
    "r2 = round(r2_score(y_test, y_pred_rf),2)\n",
    "print(\"Accuracy is : \", r2)"
   ]
  },
  {
   "cell_type": "code",
   "execution_count": 8,
   "id": "ac1295f9",
   "metadata": {},
   "outputs": [
    {
     "name": "stderr",
     "output_type": "stream",
     "text": [
      "C:\\Users\\Dishita Neve\\AppData\\Local\\Temp\\ipykernel_18752\\3123797226.py:3: DataConversionWarning: A column-vector y was passed when a 1d array was expected. Please change the shape of y to (n_samples,), for example using ravel().\n",
      "  reg_rf.fit(X_train, y_train)\n"
     ]
    },
    {
     "name": "stdout",
     "output_type": "stream",
     "text": [
      "Mean Squared Error: 412.53\n",
      "Root Mean Square Error 20.31\n",
      "Mean Absolute Error :  13.13\n",
      "Accuracy is :  0.97\n"
     ]
    }
   ],
   "source": [
    "reg_rf = RandomForestRegressor()\n",
    "# Training the decision tree regressor model\n",
    "reg_rf.fit(X_train, y_train)\n",
    "# Making predictions on the test set\n",
    "y_pred_rf = reg_rf.predict(X_test)\n",
    "\n",
    "mse = round(mean_squared_error(y_test, y_pred_rf),2)\n",
    "print(\"Mean Squared Error:\", mse)\n",
    "\n",
    "rmse = round(np.sqrt(mse),2)\n",
    "print(\"Root Mean Square Error\",rmse)\n",
    "\n",
    "mae = round(mean_absolute_error(y_test, y_pred_rf),2)\n",
    "print(\"Mean Absolute Error : \", mae)\n",
    "\n",
    "r2 = round(r2_score(y_test, y_pred_rf),2)\n",
    "print(\"Accuracy is : \", r2)"
   ]
  },
  {
   "cell_type": "code",
   "execution_count": 9,
   "id": "ebf4db57",
   "metadata": {},
   "outputs": [],
   "source": [
    "with open('C:/Users/Dishita Neve/Sales_Forecast/Model/mod_appt_created.pkl', 'wb') as file:\n",
    "    pickle.dump(regressor,file)"
   ]
  },
  {
   "cell_type": "markdown",
   "id": "8b1f81f0",
   "metadata": {},
   "source": [
    "## Average Ticket"
   ]
  },
  {
   "cell_type": "code",
   "execution_count": 10,
   "id": "f9c763c4",
   "metadata": {},
   "outputs": [],
   "source": [
    "X = df[['Location_n','Year','Month','seasonality','Budget']]\n",
    "y = df[['Average.ticket']]"
   ]
  },
  {
   "cell_type": "code",
   "execution_count": 11,
   "id": "14ac0611",
   "metadata": {},
   "outputs": [],
   "source": [
    "X_train = X #X[:1900]\n",
    "y_train = y #y[:1900]\n",
    "X_test =  X\n",
    "y_test =  y"
   ]
  },
  {
   "cell_type": "code",
   "execution_count": 12,
   "id": "485bbde2",
   "metadata": {},
   "outputs": [
    {
     "name": "stdout",
     "output_type": "stream",
     "text": [
      "Mean Squared Error: 368264.35\n",
      "Root Mean Square Error 606.85\n",
      "Mean Absolute Error :  448.58\n",
      "Accuracy is :  0.92\n"
     ]
    }
   ],
   "source": [
    "import xgboost as xgb\n",
    "regressor = xgb.XGBRegressor()\n",
    "# Training the decision tree regressor model\n",
    "regressor.fit(X_train, y_train)\n",
    "# Making predictions on the test set\n",
    "y_pred_xgb = regressor.predict(X_test)\n",
    "\n",
    "y_pred_xgb  = np.round(y_pred_xgb)\n",
    "mse = round(mean_squared_error(y_test, y_pred_xgb),2)\n",
    "print(\"Mean Squared Error:\", mse)\n",
    "\n",
    "rmse = round(np.sqrt(mse),2)\n",
    "print(\"Root Mean Square Error\",rmse)\n",
    "\n",
    "mae = round(mean_absolute_error(y_test, y_pred_xgb),2)\n",
    "print(\"Mean Absolute Error : \", mae)\n",
    "\n",
    "r2 = round(r2_score(y_test, y_pred_xgb),2)\n",
    "print(\"Accuracy is : \", r2)"
   ]
  },
  {
   "cell_type": "code",
   "execution_count": 13,
   "id": "15287b5f",
   "metadata": {},
   "outputs": [
    {
     "name": "stderr",
     "output_type": "stream",
     "text": [
      "C:\\Users\\Dishita Neve\\AppData\\Local\\Temp\\ipykernel_18752\\3123797226.py:3: DataConversionWarning: A column-vector y was passed when a 1d array was expected. Please change the shape of y to (n_samples,), for example using ravel().\n",
      "  reg_rf.fit(X_train, y_train)\n"
     ]
    },
    {
     "name": "stdout",
     "output_type": "stream",
     "text": [
      "Mean Squared Error: 477157.65\n",
      "Root Mean Square Error 690.77\n",
      "Mean Absolute Error :  503.84\n",
      "Accuracy is :  0.89\n"
     ]
    }
   ],
   "source": [
    "reg_rf = RandomForestRegressor()\n",
    "# Training the decision tree regressor model\n",
    "reg_rf.fit(X_train, y_train)\n",
    "# Making predictions on the test set\n",
    "y_pred_rf = reg_rf.predict(X_test)\n",
    "\n",
    "mse = round(mean_squared_error(y_test, y_pred_rf),2)\n",
    "print(\"Mean Squared Error:\", mse)\n",
    "\n",
    "rmse = round(np.sqrt(mse),2)\n",
    "print(\"Root Mean Square Error\",rmse)\n",
    "\n",
    "mae = round(mean_absolute_error(y_test, y_pred_rf),2)\n",
    "print(\"Mean Absolute Error : \", mae)\n",
    "\n",
    "r2 = round(r2_score(y_test, y_pred_rf),2)\n",
    "print(\"Accuracy is : \", r2)"
   ]
  },
  {
   "cell_type": "code",
   "execution_count": 14,
   "id": "947bd711",
   "metadata": {},
   "outputs": [
    {
     "name": "stdout",
     "output_type": "stream",
     "text": [
      "Mean Squared Error: 0.0\n",
      "Root Mean Square Error 0.0\n",
      "Mean Absolute Error :  0.0\n",
      "Accuracy is :  1.0\n"
     ]
    }
   ],
   "source": [
    "reg_rf = DecisionTreeRegressor()\n",
    "# Training the decision tree regressor model\n",
    "reg_rf.fit(X_train, y_train)\n",
    "# Making predictions on the test set\n",
    "y_pred_rf = reg_rf.predict(X_test)\n",
    "\n",
    "mse = round(mean_squared_error(y_test, y_pred_rf),2)\n",
    "print(\"Mean Squared Error:\", mse)\n",
    "\n",
    "rmse = round(np.sqrt(mse),2)\n",
    "print(\"Root Mean Square Error\",rmse)\n",
    "\n",
    "mae = round(mean_absolute_error(y_test, y_pred_rf),2)\n",
    "print(\"Mean Absolute Error : \", mae)\n",
    "\n",
    "r2 = round(r2_score(y_test, y_pred_rf),2)\n",
    "print(\"Accuracy is : \", r2)"
   ]
  },
  {
   "cell_type": "code",
   "execution_count": 15,
   "id": "149de93c",
   "metadata": {},
   "outputs": [],
   "source": [
    "with open('C:/Users/Dishita Neve/Sales_Forecast/Model/mod_avg_tkt.pkl', 'wb') as file:\n",
    "    pickle.dump(regressor,file)"
   ]
  },
  {
   "cell_type": "markdown",
   "id": "43738a6a",
   "metadata": {},
   "source": [
    "## Orders"
   ]
  },
  {
   "cell_type": "code",
   "execution_count": 16,
   "id": "2c446001",
   "metadata": {},
   "outputs": [],
   "source": [
    "X = df[['Location_n','Budget','Year','Month','seasonality','Average.ticket','CPA']]\n",
    "y = df[['Orders']]"
   ]
  },
  {
   "cell_type": "code",
   "execution_count": 17,
   "id": "3678390e",
   "metadata": {},
   "outputs": [],
   "source": [
    "X_train = X #X[:1900]\n",
    "y_train = y #y[:1900]\n",
    "X_test =  X\n",
    "y_test =  y"
   ]
  },
  {
   "cell_type": "code",
   "execution_count": 18,
   "id": "7782fbe6",
   "metadata": {},
   "outputs": [
    {
     "name": "stdout",
     "output_type": "stream",
     "text": [
      "Mean Squared Error: 6.07\n",
      "Root Mean Square Error 2.46\n",
      "Mean Absolute Error :  1.76\n",
      "Accuracy is :  1.0\n"
     ]
    }
   ],
   "source": [
    "import xgboost as xgb\n",
    "regressor = xgb.XGBRegressor()\n",
    "# Training the decision tree regressor model\n",
    "regressor.fit(X_train, y_train)\n",
    "# Making predictions on the test set\n",
    "y_pred_xgb = regressor.predict(X_test)\n",
    "\n",
    "y_pred_xgb  = np.round(y_pred_xgb)\n",
    "mse = round(mean_squared_error(y_test, y_pred_xgb),2)\n",
    "print(\"Mean Squared Error:\", mse)\n",
    "\n",
    "rmse = round(np.sqrt(mse),2)\n",
    "print(\"Root Mean Square Error\",rmse)\n",
    "\n",
    "mae = round(mean_absolute_error(y_test, y_pred_xgb),2)\n",
    "print(\"Mean Absolute Error : \", mae)\n",
    "\n",
    "r2 = round(r2_score(y_test, y_pred_xgb),2)\n",
    "print(\"Accuracy is : \", r2)"
   ]
  },
  {
   "cell_type": "code",
   "execution_count": 19,
   "id": "eac9a03c",
   "metadata": {},
   "outputs": [
    {
     "name": "stderr",
     "output_type": "stream",
     "text": [
      "C:\\Users\\Dishita Neve\\AppData\\Local\\Temp\\ipykernel_18752\\3123797226.py:3: DataConversionWarning: A column-vector y was passed when a 1d array was expected. Please change the shape of y to (n_samples,), for example using ravel().\n",
      "  reg_rf.fit(X_train, y_train)\n"
     ]
    },
    {
     "name": "stdout",
     "output_type": "stream",
     "text": [
      "Mean Squared Error: 46.05\n",
      "Root Mean Square Error 6.79\n",
      "Mean Absolute Error :  4.46\n",
      "Accuracy is :  0.98\n"
     ]
    }
   ],
   "source": [
    "reg_rf = RandomForestRegressor()\n",
    "# Training the decision tree regressor model\n",
    "reg_rf.fit(X_train, y_train)\n",
    "# Making predictions on the test set\n",
    "y_pred_rf = reg_rf.predict(X_test)\n",
    "\n",
    "mse = round(mean_squared_error(y_test, y_pred_rf),2)\n",
    "print(\"Mean Squared Error:\", mse)\n",
    "\n",
    "rmse = round(np.sqrt(mse),2)\n",
    "print(\"Root Mean Square Error\",rmse)\n",
    "\n",
    "mae = round(mean_absolute_error(y_test, y_pred_rf),2)\n",
    "print(\"Mean Absolute Error : \", mae)\n",
    "\n",
    "r2 = round(r2_score(y_test, y_pred_rf),2)\n",
    "print(\"Accuracy is : \", r2)"
   ]
  },
  {
   "cell_type": "code",
   "execution_count": 20,
   "id": "7cc241c4",
   "metadata": {},
   "outputs": [
    {
     "name": "stdout",
     "output_type": "stream",
     "text": [
      "Mean Squared Error: 0.0\n",
      "Root Mean Square Error 0.0\n",
      "Mean Absolute Error :  0.0\n",
      "Accuracy is :  1.0\n"
     ]
    }
   ],
   "source": [
    "reg_dt = DecisionTreeRegressor()\n",
    "# Training the decision tree regressor model\n",
    "reg_dt.fit(X_train, y_train)\n",
    "# Making predictions on the test set\n",
    "y_pred_rf = reg_dt.predict(X_test)\n",
    "\n",
    "mse = round(mean_squared_error(y_test, y_pred_rf),2)\n",
    "print(\"Mean Squared Error:\", mse)\n",
    "\n",
    "rmse = round(np.sqrt(mse),2)\n",
    "print(\"Root Mean Square Error\",rmse)\n",
    "\n",
    "mae = round(mean_absolute_error(y_test, y_pred_rf),2)\n",
    "print(\"Mean Absolute Error : \", mae)\n",
    "\n",
    "r2 = round(r2_score(y_test, y_pred_rf),2)\n",
    "print(\"Accuracy is : \", r2)"
   ]
  },
  {
   "cell_type": "code",
   "execution_count": 21,
   "id": "68edcb57",
   "metadata": {},
   "outputs": [],
   "source": [
    "with open('C:/Users/Dishita Neve/Sales_Forecast/Model/mod_ord.pkl', 'wb') as file:\n",
    "    pickle.dump(reg_rf,file)"
   ]
  },
  {
   "cell_type": "code",
   "execution_count": null,
   "id": "069e211c",
   "metadata": {},
   "outputs": [],
   "source": []
  },
  {
   "cell_type": "code",
   "execution_count": null,
   "id": "44f2aacb",
   "metadata": {},
   "outputs": [],
   "source": []
  },
  {
   "cell_type": "code",
   "execution_count": 22,
   "id": "81dcfaa0",
   "metadata": {},
   "outputs": [],
   "source": [
    "# Step 1\n",
    "# X = df[['Location','Budget','Year','month','seasonality']]\n",
    "# y = df[['APPT.created']]\n",
    "\n",
    "# CPA = APPT.created/Budget \n",
    "\n",
    "# Step 2\n",
    "# X = df[['Location','Year','month','seasonality','CPA']]\n",
    "# y = df[['Average.ticket']\n",
    "\n",
    "# Step 3\n",
    "# X = df[['Location','Year','month','seasonality','Budget','APPT.created']]\n",
    "# y = df[['Conversion.ran']]\n",
    "\n",
    "# APPT.ran = Conversion.ran*APPT.Create\n",
    "\n",
    "# Step 4\n",
    "# X = df[['Location','CPA','Year','month','seasonality','Average.ticket']]\n",
    "# y = df[['Orders']]\n",
    "\n",
    "# Conversion.close = Order/appt_ran\n",
    "# Sales_forecast = Orders*Avg.ticket"
   ]
  },
  {
   "cell_type": "code",
   "execution_count": 23,
   "id": "b563a0f4",
   "metadata": {},
   "outputs": [
    {
     "data": {
      "text/plain": [
       "Index(['Date', 'City', 'Budget', 'CPA', 'APPT.created', 'Conversion.ran',\n",
       "       'APPT.ran', 'Conversion.close', 'Orders', 'Average.ticket', 'Sales',\n",
       "       'Day ', 'Month', 'Year', 'State', 'Region', 'Month m', 'Location_n',\n",
       "       'category', 'seasonality'],\n",
       "      dtype='object')"
      ]
     },
     "execution_count": 23,
     "metadata": {},
     "output_type": "execute_result"
    }
   ],
   "source": [
    "df.columns"
   ]
  },
  {
   "cell_type": "code",
   "execution_count": 24,
   "id": "205818f5",
   "metadata": {},
   "outputs": [
    {
     "name": "stdout",
     "output_type": "stream",
     "text": [
      "Enter the number of forecasted months: 5\n",
      "5\n",
      "[Timestamp('2023-01-01 00:00:00'), Timestamp('2023-02-01 00:00:00'), Timestamp('2023-03-01 00:00:00'), Timestamp('2023-04-01 00:00:00'), Timestamp('2023-05-01 00:00:00')]\n"
     ]
    }
   ],
   "source": [
    "import pandas as pd\n",
    "from dateutil.relativedelta import relativedelta\n",
    "\n",
    "# Assuming your DataFrame is named 'df' and the date column is named 'Date'\n",
    "# You mentioned that the day is 1 for all dates\n",
    "\n",
    "# Convert the 'Date' column to a pandas DateTime type\n",
    "df['Date'] = pd.to_datetime(df['Date'])\n",
    "\n",
    "# Find the maximum date value in the 'Date' column\n",
    "max_date = df['Date'].max()\n",
    "\n",
    "# Ask the user for the number of forecasted months\n",
    "forecasted_months = int(input(\"Enter the number of forecasted months: \"))\n",
    "\n",
    "# Add the specified number of months to the maximum date value\n",
    "c = []\n",
    "for i in range(1,forecasted_months+1) :\n",
    "    forecasted_date = max_date + relativedelta(months=i)\n",
    "    c.append(forecasted_date)\n",
    "\n",
    "print(len(c))    \n",
    "print(c)"
   ]
  },
  {
   "cell_type": "code",
   "execution_count": 25,
   "id": "22a4e81d",
   "metadata": {},
   "outputs": [
    {
     "data": {
      "text/plain": [
       "Timestamp('2022-12-01 00:00:00')"
      ]
     },
     "execution_count": 25,
     "metadata": {},
     "output_type": "execute_result"
    }
   ],
   "source": [
    "max_date"
   ]
  },
  {
   "cell_type": "code",
   "execution_count": 26,
   "id": "cec5da57",
   "metadata": {},
   "outputs": [],
   "source": [
    "# Create a new DataFrame with the forecasted date\n",
    "forecast_df = pd.DataFrame({'Date': c})"
   ]
  },
  {
   "cell_type": "code",
   "execution_count": 27,
   "id": "0fcb909d",
   "metadata": {},
   "outputs": [
    {
     "data": {
      "text/html": [
       "<div>\n",
       "<style scoped>\n",
       "    .dataframe tbody tr th:only-of-type {\n",
       "        vertical-align: middle;\n",
       "    }\n",
       "\n",
       "    .dataframe tbody tr th {\n",
       "        vertical-align: top;\n",
       "    }\n",
       "\n",
       "    .dataframe thead th {\n",
       "        text-align: right;\n",
       "    }\n",
       "</style>\n",
       "<table border=\"1\" class=\"dataframe\">\n",
       "  <thead>\n",
       "    <tr style=\"text-align: right;\">\n",
       "      <th></th>\n",
       "      <th>Date</th>\n",
       "    </tr>\n",
       "  </thead>\n",
       "  <tbody>\n",
       "    <tr>\n",
       "      <th>0</th>\n",
       "      <td>2023-01-01</td>\n",
       "    </tr>\n",
       "    <tr>\n",
       "      <th>1</th>\n",
       "      <td>2023-02-01</td>\n",
       "    </tr>\n",
       "    <tr>\n",
       "      <th>2</th>\n",
       "      <td>2023-03-01</td>\n",
       "    </tr>\n",
       "    <tr>\n",
       "      <th>3</th>\n",
       "      <td>2023-04-01</td>\n",
       "    </tr>\n",
       "    <tr>\n",
       "      <th>4</th>\n",
       "      <td>2023-05-01</td>\n",
       "    </tr>\n",
       "  </tbody>\n",
       "</table>\n",
       "</div>"
      ],
      "text/plain": [
       "        Date\n",
       "0 2023-01-01\n",
       "1 2023-02-01\n",
       "2 2023-03-01\n",
       "3 2023-04-01\n",
       "4 2023-05-01"
      ]
     },
     "execution_count": 27,
     "metadata": {},
     "output_type": "execute_result"
    }
   ],
   "source": [
    "forecast_df"
   ]
  },
  {
   "cell_type": "code",
   "execution_count": null,
   "id": "a4eee112",
   "metadata": {},
   "outputs": [],
   "source": []
  },
  {
   "cell_type": "code",
   "execution_count": null,
   "id": "2ce197d0",
   "metadata": {},
   "outputs": [],
   "source": []
  },
  {
   "cell_type": "code",
   "execution_count": null,
   "id": "d2182ec4",
   "metadata": {},
   "outputs": [],
   "source": []
  }
 ],
 "metadata": {
  "kernelspec": {
   "display_name": "Python 3 (ipykernel)",
   "language": "python",
   "name": "python3"
  },
  "language_info": {
   "codemirror_mode": {
    "name": "ipython",
    "version": 3
   },
   "file_extension": ".py",
   "mimetype": "text/x-python",
   "name": "python",
   "nbconvert_exporter": "python",
   "pygments_lexer": "ipython3",
   "version": "3.9.13"
  }
 },
 "nbformat": 4,
 "nbformat_minor": 5
}
