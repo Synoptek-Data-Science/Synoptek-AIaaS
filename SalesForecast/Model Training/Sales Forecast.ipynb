{
 "cells": [
  {
   "cell_type": "code",
   "execution_count": 1,
   "id": "1583bacf",
   "metadata": {},
   "outputs": [],
   "source": [
    "import pandas as pd\n",
    "import numpy as np\n",
    "import warnings\n",
    "df = pd.read_csv('Champion_Data_Historical_Data.csv')"
   ]
  },
  {
   "cell_type": "code",
   "execution_count": 2,
   "id": "2d3730b4",
   "metadata": {},
   "outputs": [
    {
     "data": {
      "text/html": [
       "<div>\n",
       "<style scoped>\n",
       "    .dataframe tbody tr th:only-of-type {\n",
       "        vertical-align: middle;\n",
       "    }\n",
       "\n",
       "    .dataframe tbody tr th {\n",
       "        vertical-align: top;\n",
       "    }\n",
       "\n",
       "    .dataframe thead th {\n",
       "        text-align: right;\n",
       "    }\n",
       "</style>\n",
       "<table border=\"1\" class=\"dataframe\">\n",
       "  <thead>\n",
       "    <tr style=\"text-align: right;\">\n",
       "      <th></th>\n",
       "      <th>Month</th>\n",
       "      <th>Location</th>\n",
       "      <th>Budget</th>\n",
       "      <th>CPA</th>\n",
       "      <th>APPT.created</th>\n",
       "      <th>Conversion.ran</th>\n",
       "      <th>APPT.ran</th>\n",
       "      <th>Conversion.close</th>\n",
       "      <th>Orders</th>\n",
       "      <th>Average.ticket</th>\n",
       "      <th>Sales</th>\n",
       "    </tr>\n",
       "  </thead>\n",
       "  <tbody>\n",
       "    <tr>\n",
       "      <th>0</th>\n",
       "      <td>1/1/2015</td>\n",
       "      <td>ALBANY</td>\n",
       "      <td>17931.0</td>\n",
       "      <td>717</td>\n",
       "      <td>25.0</td>\n",
       "      <td>1</td>\n",
       "      <td>20.0</td>\n",
       "      <td>0</td>\n",
       "      <td>6.0</td>\n",
       "      <td>4728.0</td>\n",
       "      <td>28366</td>\n",
       "    </tr>\n",
       "    <tr>\n",
       "      <th>1</th>\n",
       "      <td>2/1/2015</td>\n",
       "      <td>ALBANY</td>\n",
       "      <td>33143.0</td>\n",
       "      <td>571</td>\n",
       "      <td>58.0</td>\n",
       "      <td>1</td>\n",
       "      <td>50.0</td>\n",
       "      <td>0</td>\n",
       "      <td>13.0</td>\n",
       "      <td>12533.0</td>\n",
       "      <td>162931</td>\n",
       "    </tr>\n",
       "    <tr>\n",
       "      <th>2</th>\n",
       "      <td>3/1/2015</td>\n",
       "      <td>ALBANY</td>\n",
       "      <td>65600.0</td>\n",
       "      <td>820</td>\n",
       "      <td>80.0</td>\n",
       "      <td>1</td>\n",
       "      <td>70.0</td>\n",
       "      <td>0</td>\n",
       "      <td>17.0</td>\n",
       "      <td>12260.0</td>\n",
       "      <td>208416</td>\n",
       "    </tr>\n",
       "    <tr>\n",
       "      <th>3</th>\n",
       "      <td>4/1/2015</td>\n",
       "      <td>ALBANY</td>\n",
       "      <td>76460.0</td>\n",
       "      <td>490</td>\n",
       "      <td>156.0</td>\n",
       "      <td>1</td>\n",
       "      <td>143.0</td>\n",
       "      <td>0</td>\n",
       "      <td>43.0</td>\n",
       "      <td>7430.0</td>\n",
       "      <td>319473</td>\n",
       "    </tr>\n",
       "    <tr>\n",
       "      <th>4</th>\n",
       "      <td>5/1/2015</td>\n",
       "      <td>ALBANY</td>\n",
       "      <td>77819.0</td>\n",
       "      <td>894</td>\n",
       "      <td>87.0</td>\n",
       "      <td>1</td>\n",
       "      <td>106.0</td>\n",
       "      <td>0</td>\n",
       "      <td>23.0</td>\n",
       "      <td>12322.0</td>\n",
       "      <td>283405</td>\n",
       "    </tr>\n",
       "  </tbody>\n",
       "</table>\n",
       "</div>"
      ],
      "text/plain": [
       "      Month Location   Budget  CPA  APPT.created  Conversion.ran  APPT.ran  \\\n",
       "0  1/1/2015   ALBANY  17931.0  717          25.0               1      20.0   \n",
       "1  2/1/2015   ALBANY  33143.0  571          58.0               1      50.0   \n",
       "2  3/1/2015   ALBANY  65600.0  820          80.0               1      70.0   \n",
       "3  4/1/2015   ALBANY  76460.0  490         156.0               1     143.0   \n",
       "4  5/1/2015   ALBANY  77819.0  894          87.0               1     106.0   \n",
       "\n",
       "   Conversion.close  Orders  Average.ticket   Sales  \n",
       "0                 0     6.0          4728.0   28366  \n",
       "1                 0    13.0         12533.0  162931  \n",
       "2                 0    17.0         12260.0  208416  \n",
       "3                 0    43.0          7430.0  319473  \n",
       "4                 0    23.0         12322.0  283405  "
      ]
     },
     "execution_count": 2,
     "metadata": {},
     "output_type": "execute_result"
    }
   ],
   "source": [
    "df.head(5)"
   ]
  },
  {
   "cell_type": "code",
   "execution_count": 3,
   "id": "9699bd51",
   "metadata": {},
   "outputs": [],
   "source": [
    "df = df[df['Orders'] != 0]"
   ]
  },
  {
   "cell_type": "code",
   "execution_count": 4,
   "id": "91d3208f",
   "metadata": {},
   "outputs": [
    {
     "name": "stdout",
     "output_type": "stream",
     "text": [
      "Dropping Duplicate rows in dataframe (1687, 11)\n",
      "Total Size of data after dropping duplicates (1687, 11)\n"
     ]
    }
   ],
   "source": [
    "print('Dropping Duplicate rows in dataframe',df.shape)\n",
    "df.drop_duplicates(inplace=True, ignore_index=True)\n",
    "print('Total Size of data after dropping duplicates',df.shape)"
   ]
  },
  {
   "cell_type": "code",
   "execution_count": 5,
   "id": "819271f5",
   "metadata": {},
   "outputs": [],
   "source": [
    "# Changing date column data type to date\n",
    "df['Month'] = pd.to_datetime(df['Month'])\n",
    "# Adding Year and Month Column\n",
    "df['Year'] = df['Month'].dt.year\n",
    "df['month'] = df['Month'].dt.month\n",
    "#df['Date'] = df['Month'].dt.month"
   ]
  },
  {
   "cell_type": "code",
   "execution_count": 6,
   "id": "1109532e",
   "metadata": {},
   "outputs": [
    {
     "data": {
      "text/plain": [
       "Index(['Month', 'Location', 'Budget', 'CPA', 'APPT.created', 'Conversion.ran',\n",
       "       'APPT.ran', 'Conversion.close', 'Orders', 'Average.ticket', 'Sales',\n",
       "       'Year', 'month'],\n",
       "      dtype='object')"
      ]
     },
     "execution_count": 6,
     "metadata": {},
     "output_type": "execute_result"
    }
   ],
   "source": [
    "df.columns"
   ]
  },
  {
   "cell_type": "code",
   "execution_count": 7,
   "id": "7c41376a",
   "metadata": {},
   "outputs": [
    {
     "data": {
      "text/plain": [
       "48"
      ]
     },
     "execution_count": 7,
     "metadata": {},
     "output_type": "execute_result"
    }
   ],
   "source": [
    "df['Location'].nunique()"
   ]
  },
  {
   "cell_type": "code",
   "execution_count": 8,
   "id": "fafa4bd9",
   "metadata": {},
   "outputs": [
    {
     "data": {
      "text/html": [
       "<div>\n",
       "<style scoped>\n",
       "    .dataframe tbody tr th:only-of-type {\n",
       "        vertical-align: middle;\n",
       "    }\n",
       "\n",
       "    .dataframe tbody tr th {\n",
       "        vertical-align: top;\n",
       "    }\n",
       "\n",
       "    .dataframe thead th {\n",
       "        text-align: right;\n",
       "    }\n",
       "</style>\n",
       "<table border=\"1\" class=\"dataframe\">\n",
       "  <thead>\n",
       "    <tr style=\"text-align: right;\">\n",
       "      <th></th>\n",
       "      <th>index</th>\n",
       "      <th>Loc_freq</th>\n",
       "    </tr>\n",
       "  </thead>\n",
       "  <tbody>\n",
       "    <tr>\n",
       "      <th>0</th>\n",
       "      <td>CINCINNATI</td>\n",
       "      <td>37</td>\n",
       "    </tr>\n",
       "    <tr>\n",
       "      <th>1</th>\n",
       "      <td>DENVER</td>\n",
       "      <td>37</td>\n",
       "    </tr>\n",
       "    <tr>\n",
       "      <th>2</th>\n",
       "      <td>COLORADOSP</td>\n",
       "      <td>36</td>\n",
       "    </tr>\n",
       "    <tr>\n",
       "      <th>3</th>\n",
       "      <td>SOUTHBEND</td>\n",
       "      <td>36</td>\n",
       "    </tr>\n",
       "    <tr>\n",
       "      <th>4</th>\n",
       "      <td>MINNEAPOLIS</td>\n",
       "      <td>36</td>\n",
       "    </tr>\n",
       "  </tbody>\n",
       "</table>\n",
       "</div>"
      ],
      "text/plain": [
       "         index  Loc_freq\n",
       "0   CINCINNATI        37\n",
       "1       DENVER        37\n",
       "2   COLORADOSP        36\n",
       "3    SOUTHBEND        36\n",
       "4  MINNEAPOLIS        36"
      ]
     },
     "execution_count": 8,
     "metadata": {},
     "output_type": "execute_result"
    }
   ],
   "source": [
    "vc = df['Location'].value_counts().reset_index(name='Loc_freq') \n",
    "vc = vc.sort_values('Loc_freq', ascending=False)\n",
    "vc.head(5)"
   ]
  },
  {
   "cell_type": "code",
   "execution_count": 9,
   "id": "305630f9",
   "metadata": {},
   "outputs": [
    {
     "data": {
      "text/plain": [
       "array(['ALBANY', 'ALBUQUERQUE', 'ATLANTA', 'AUSTIN', 'BALTIMORE',\n",
       "       'BIRMINGHAM', 'BOISE', 'CHARLOTTE', 'CHATTANOOGA', 'CHICAGO',\n",
       "       'CINCINNATI', 'CLEVELAND', 'COLORADOSP', 'COLUMBIA', 'COLUMBUSOH',\n",
       "       'DAYTON', 'DENVER', 'EVANSVILLE', 'FTCOLLINS', 'FTWORTH',\n",
       "       'GRANDRAPIDS', 'GREENSBORO', 'HUNTSVILLE', 'INDIANAPOLIS',\n",
       "       'JOHNSONCITY', 'KANSASCITY', 'LEXINGTON', 'LOUISVILLE', 'MACON',\n",
       "       'MEMPHIS', 'MILWAUKEE', 'MINNEAPOLIS', 'NASHVILLE', 'OKLAHOMACITY',\n",
       "       'OMAHA', 'PITTSBURGH', 'PORTLAND', 'RALEIGH', 'RICHMONDVA',\n",
       "       'ROCHESTER', 'SALTLAKECITY', 'SANANTONIO', 'SEATTLE', 'SOUTHBEND',\n",
       "       'STLOUIS', 'TOLEDO', 'TULSA', 'WICHITA'], dtype=object)"
      ]
     },
     "execution_count": 9,
     "metadata": {},
     "output_type": "execute_result"
    }
   ],
   "source": [
    "df.Location.unique()"
   ]
  },
  {
   "cell_type": "code",
   "execution_count": 10,
   "id": "3e092c84",
   "metadata": {},
   "outputs": [
    {
     "data": {
      "text/plain": [
       "Timestamp('2015-01-01 00:00:00')"
      ]
     },
     "execution_count": 10,
     "metadata": {},
     "output_type": "execute_result"
    }
   ],
   "source": [
    "df['Month'].min()"
   ]
  },
  {
   "cell_type": "code",
   "execution_count": 11,
   "id": "c1e23174",
   "metadata": {},
   "outputs": [
    {
     "data": {
      "text/plain": [
       "Timestamp('2018-12-01 00:00:00')"
      ]
     },
     "execution_count": 11,
     "metadata": {},
     "output_type": "execute_result"
    }
   ],
   "source": [
    "df['Month'].max()"
   ]
  },
  {
   "cell_type": "code",
   "execution_count": 12,
   "id": "b8ed696e",
   "metadata": {},
   "outputs": [
    {
     "data": {
      "text/plain": [
       "0    1644\n",
       "1      43\n",
       "Name: Conversion.close, dtype: int64"
      ]
     },
     "execution_count": 12,
     "metadata": {},
     "output_type": "execute_result"
    }
   ],
   "source": [
    "df['Conversion.close'].value_counts()"
   ]
  },
  {
   "cell_type": "code",
   "execution_count": 13,
   "id": "18026f28",
   "metadata": {},
   "outputs": [
    {
     "data": {
      "text/plain": [
       "Month               0\n",
       "Location            0\n",
       "Budget              3\n",
       "CPA                 0\n",
       "APPT.created        1\n",
       "Conversion.ran      0\n",
       "APPT.ran            1\n",
       "Conversion.close    0\n",
       "Orders              1\n",
       "Average.ticket      1\n",
       "Sales               0\n",
       "Year                0\n",
       "month               0\n",
       "dtype: int64"
      ]
     },
     "execution_count": 13,
     "metadata": {},
     "output_type": "execute_result"
    }
   ],
   "source": [
    "df.isna().sum()"
   ]
  },
  {
   "cell_type": "code",
   "execution_count": 14,
   "id": "cc28d121",
   "metadata": {},
   "outputs": [
    {
     "name": "stdout",
     "output_type": "stream",
     "text": [
      "Before dropping any value (1687, 13)\n",
      "After dropping null value (1684, 13)\n"
     ]
    }
   ],
   "source": [
    "# Dropping rows which have missing 'Budget' values\n",
    "print('Before dropping any value',df.shape)\n",
    "df.dropna(subset=['Budget'], inplace=True)\n",
    "print('After dropping null value',df.shape)"
   ]
  },
  {
   "cell_type": "code",
   "execution_count": 15,
   "id": "6cdfff00",
   "metadata": {},
   "outputs": [
    {
     "data": {
      "text/plain": [
       "Month               0\n",
       "Location            0\n",
       "Budget              0\n",
       "CPA                 0\n",
       "APPT.created        0\n",
       "Conversion.ran      0\n",
       "APPT.ran            0\n",
       "Conversion.close    0\n",
       "Orders              0\n",
       "Average.ticket      0\n",
       "Sales               0\n",
       "Year                0\n",
       "month               0\n",
       "dtype: int64"
      ]
     },
     "execution_count": 15,
     "metadata": {},
     "output_type": "execute_result"
    }
   ],
   "source": [
    "df.isna().sum()"
   ]
  },
  {
   "cell_type": "code",
   "execution_count": 16,
   "id": "fd71ffc9",
   "metadata": {},
   "outputs": [
    {
     "name": "stdout",
     "output_type": "stream",
     "text": [
      "(1684, 13)\n",
      "(1682, 13)\n"
     ]
    }
   ],
   "source": [
    "print(df.shape)\n",
    "df = df[df['Budget'] >= 0]\n",
    "print(df.shape)"
   ]
  },
  {
   "cell_type": "code",
   "execution_count": 17,
   "id": "1a58adb8",
   "metadata": {},
   "outputs": [],
   "source": [
    "from sklearn.preprocessing import OrdinalEncoder\n",
    "encoder = OrdinalEncoder()\n",
    "df[[\"Location_n\"]] = encoder.fit_transform(df[[\"Location\"]])"
   ]
  },
  {
   "cell_type": "code",
   "execution_count": 18,
   "id": "0a912dbf",
   "metadata": {},
   "outputs": [
    {
     "data": {
      "text/html": [
       "<div>\n",
       "<style scoped>\n",
       "    .dataframe tbody tr th:only-of-type {\n",
       "        vertical-align: middle;\n",
       "    }\n",
       "\n",
       "    .dataframe tbody tr th {\n",
       "        vertical-align: top;\n",
       "    }\n",
       "\n",
       "    .dataframe thead th {\n",
       "        text-align: right;\n",
       "    }\n",
       "</style>\n",
       "<table border=\"1\" class=\"dataframe\">\n",
       "  <thead>\n",
       "    <tr style=\"text-align: right;\">\n",
       "      <th></th>\n",
       "      <th>Month</th>\n",
       "      <th>Location</th>\n",
       "      <th>Budget</th>\n",
       "      <th>CPA</th>\n",
       "      <th>APPT.created</th>\n",
       "      <th>Conversion.ran</th>\n",
       "      <th>APPT.ran</th>\n",
       "      <th>Conversion.close</th>\n",
       "      <th>Orders</th>\n",
       "      <th>Average.ticket</th>\n",
       "      <th>Sales</th>\n",
       "      <th>Year</th>\n",
       "      <th>month</th>\n",
       "      <th>Location_n</th>\n",
       "    </tr>\n",
       "  </thead>\n",
       "  <tbody>\n",
       "    <tr>\n",
       "      <th>0</th>\n",
       "      <td>2015-01-01</td>\n",
       "      <td>ALBANY</td>\n",
       "      <td>17931.0</td>\n",
       "      <td>717</td>\n",
       "      <td>25.0</td>\n",
       "      <td>1</td>\n",
       "      <td>20.0</td>\n",
       "      <td>0</td>\n",
       "      <td>6.0</td>\n",
       "      <td>4728.0</td>\n",
       "      <td>28366</td>\n",
       "      <td>2015</td>\n",
       "      <td>1</td>\n",
       "      <td>0.0</td>\n",
       "    </tr>\n",
       "    <tr>\n",
       "      <th>1</th>\n",
       "      <td>2015-02-01</td>\n",
       "      <td>ALBANY</td>\n",
       "      <td>33143.0</td>\n",
       "      <td>571</td>\n",
       "      <td>58.0</td>\n",
       "      <td>1</td>\n",
       "      <td>50.0</td>\n",
       "      <td>0</td>\n",
       "      <td>13.0</td>\n",
       "      <td>12533.0</td>\n",
       "      <td>162931</td>\n",
       "      <td>2015</td>\n",
       "      <td>2</td>\n",
       "      <td>0.0</td>\n",
       "    </tr>\n",
       "    <tr>\n",
       "      <th>2</th>\n",
       "      <td>2015-03-01</td>\n",
       "      <td>ALBANY</td>\n",
       "      <td>65600.0</td>\n",
       "      <td>820</td>\n",
       "      <td>80.0</td>\n",
       "      <td>1</td>\n",
       "      <td>70.0</td>\n",
       "      <td>0</td>\n",
       "      <td>17.0</td>\n",
       "      <td>12260.0</td>\n",
       "      <td>208416</td>\n",
       "      <td>2015</td>\n",
       "      <td>3</td>\n",
       "      <td>0.0</td>\n",
       "    </tr>\n",
       "    <tr>\n",
       "      <th>3</th>\n",
       "      <td>2015-04-01</td>\n",
       "      <td>ALBANY</td>\n",
       "      <td>76460.0</td>\n",
       "      <td>490</td>\n",
       "      <td>156.0</td>\n",
       "      <td>1</td>\n",
       "      <td>143.0</td>\n",
       "      <td>0</td>\n",
       "      <td>43.0</td>\n",
       "      <td>7430.0</td>\n",
       "      <td>319473</td>\n",
       "      <td>2015</td>\n",
       "      <td>4</td>\n",
       "      <td>0.0</td>\n",
       "    </tr>\n",
       "    <tr>\n",
       "      <th>4</th>\n",
       "      <td>2015-05-01</td>\n",
       "      <td>ALBANY</td>\n",
       "      <td>77819.0</td>\n",
       "      <td>894</td>\n",
       "      <td>87.0</td>\n",
       "      <td>1</td>\n",
       "      <td>106.0</td>\n",
       "      <td>0</td>\n",
       "      <td>23.0</td>\n",
       "      <td>12322.0</td>\n",
       "      <td>283405</td>\n",
       "      <td>2015</td>\n",
       "      <td>5</td>\n",
       "      <td>0.0</td>\n",
       "    </tr>\n",
       "  </tbody>\n",
       "</table>\n",
       "</div>"
      ],
      "text/plain": [
       "       Month Location   Budget  CPA  APPT.created  Conversion.ran  APPT.ran  \\\n",
       "0 2015-01-01   ALBANY  17931.0  717          25.0               1      20.0   \n",
       "1 2015-02-01   ALBANY  33143.0  571          58.0               1      50.0   \n",
       "2 2015-03-01   ALBANY  65600.0  820          80.0               1      70.0   \n",
       "3 2015-04-01   ALBANY  76460.0  490         156.0               1     143.0   \n",
       "4 2015-05-01   ALBANY  77819.0  894          87.0               1     106.0   \n",
       "\n",
       "   Conversion.close  Orders  Average.ticket   Sales  Year  month  Location_n  \n",
       "0                 0     6.0          4728.0   28366  2015      1         0.0  \n",
       "1                 0    13.0         12533.0  162931  2015      2         0.0  \n",
       "2                 0    17.0         12260.0  208416  2015      3         0.0  \n",
       "3                 0    43.0          7430.0  319473  2015      4         0.0  \n",
       "4                 0    23.0         12322.0  283405  2015      5         0.0  "
      ]
     },
     "execution_count": 18,
     "metadata": {},
     "output_type": "execute_result"
    }
   ],
   "source": [
    "df.head(5)"
   ]
  },
  {
   "cell_type": "code",
   "execution_count": 19,
   "id": "f685a6b2",
   "metadata": {},
   "outputs": [
    {
     "name": "stderr",
     "output_type": "stream",
     "text": [
      "C:\\Users\\Dishita Neve\\AppData\\Local\\Temp\\ipykernel_21312\\2159467920.py:2: SettingWithCopyWarning: \n",
      "A value is trying to be set on a copy of a slice from a DataFrame\n",
      "\n",
      "See the caveats in the documentation: https://pandas.pydata.org/pandas-docs/stable/user_guide/indexing.html#returning-a-view-versus-a-copy\n",
      "  k.drop_duplicates(inplace=True)\n"
     ]
    }
   ],
   "source": [
    "k = df[['Location','Location_n']]\n",
    "k.drop_duplicates(inplace=True)"
   ]
  },
  {
   "cell_type": "code",
   "execution_count": 20,
   "id": "8d0395fb",
   "metadata": {},
   "outputs": [
    {
     "data": {
      "text/plain": [
       "['ALBANY',\n",
       " 'ALBUQUERQUE',\n",
       " 'ATLANTA',\n",
       " 'AUSTIN',\n",
       " 'BALTIMORE',\n",
       " 'BIRMINGHAM',\n",
       " 'BOISE',\n",
       " 'CHARLOTTE',\n",
       " 'CHATTANOOGA',\n",
       " 'CHICAGO',\n",
       " 'CINCINNATI',\n",
       " 'CLEVELAND',\n",
       " 'COLORADOSP',\n",
       " 'COLUMBIA',\n",
       " 'COLUMBUSOH',\n",
       " 'DAYTON',\n",
       " 'DENVER',\n",
       " 'EVANSVILLE',\n",
       " 'FTCOLLINS',\n",
       " 'FTWORTH',\n",
       " 'GRANDRAPIDS',\n",
       " 'GREENSBORO',\n",
       " 'HUNTSVILLE',\n",
       " 'INDIANAPOLIS',\n",
       " 'JOHNSONCITY',\n",
       " 'KANSASCITY',\n",
       " 'LEXINGTON',\n",
       " 'LOUISVILLE',\n",
       " 'MACON',\n",
       " 'MEMPHIS',\n",
       " 'MILWAUKEE',\n",
       " 'MINNEAPOLIS',\n",
       " 'NASHVILLE',\n",
       " 'OKLAHOMACITY',\n",
       " 'OMAHA',\n",
       " 'PITTSBURGH',\n",
       " 'PORTLAND',\n",
       " 'RALEIGH',\n",
       " 'RICHMONDVA',\n",
       " 'ROCHESTER',\n",
       " 'SALTLAKECITY',\n",
       " 'SANANTONIO',\n",
       " 'SEATTLE',\n",
       " 'SOUTHBEND',\n",
       " 'STLOUIS',\n",
       " 'TOLEDO',\n",
       " 'TULSA',\n",
       " 'WICHITA']"
      ]
     },
     "execution_count": 20,
     "metadata": {},
     "output_type": "execute_result"
    }
   ],
   "source": [
    "k['Location'].tolist()"
   ]
  },
  {
   "cell_type": "code",
   "execution_count": 21,
   "id": "ed5ebeb6",
   "metadata": {},
   "outputs": [
    {
     "data": {
      "text/plain": [
       "Index(['Location', 'Location_n'], dtype='object')"
      ]
     },
     "execution_count": 21,
     "metadata": {},
     "output_type": "execute_result"
    }
   ],
   "source": [
    "k.columns"
   ]
  },
  {
   "cell_type": "code",
   "execution_count": 22,
   "id": "f46a242b",
   "metadata": {},
   "outputs": [
    {
     "name": "stdout",
     "output_type": "stream",
     "text": [
      "{'ALBANY': 0.0, 'ALBUQUERQUE': 1.0, 'ATLANTA': 2.0, 'AUSTIN': 3.0, 'BALTIMORE': 4.0, 'BIRMINGHAM': 5.0, 'BOISE': 6.0, 'CHARLOTTE': 7.0, 'CHATTANOOGA': 8.0, 'CHICAGO': 9.0, 'CINCINNATI': 10.0, 'CLEVELAND': 11.0, 'COLORADOSP': 12.0, 'COLUMBIA': 13.0, 'COLUMBUSOH': 14.0, 'DAYTON': 15.0, 'DENVER': 16.0, 'EVANSVILLE': 17.0, 'FTCOLLINS': 18.0, 'FTWORTH': 19.0, 'GRANDRAPIDS': 20.0, 'GREENSBORO': 21.0, 'HUNTSVILLE': 22.0, 'INDIANAPOLIS': 23.0, 'JOHNSONCITY': 24.0, 'KANSASCITY': 25.0, 'LEXINGTON': 26.0, 'LOUISVILLE': 27.0, 'MACON': 28.0, 'MEMPHIS': 29.0, 'MILWAUKEE': 30.0, 'MINNEAPOLIS': 31.0, 'NASHVILLE': 32.0, 'OKLAHOMACITY': 33.0, 'OMAHA': 34.0, 'PITTSBURGH': 35.0, 'PORTLAND': 36.0, 'RALEIGH': 37.0, 'RICHMONDVA': 38.0, 'ROCHESTER': 39.0, 'SALTLAKECITY': 40.0, 'SANANTONIO': 41.0, 'SEATTLE': 42.0, 'SOUTHBEND': 43.0, 'STLOUIS': 44.0, 'TOLEDO': 45.0, 'TULSA': 46.0, 'WICHITA': 47.0}\n"
     ]
    }
   ],
   "source": [
    "a = k['Location']\n",
    "b = k['Location_n']\n",
    "\n",
    "my_dict = {key: value for key, value in zip(a,b)}\n",
    "\n",
    "# Print the dictionary\n",
    "print(my_dict)\n"
   ]
  },
  {
   "cell_type": "code",
   "execution_count": 23,
   "id": "7322f623",
   "metadata": {},
   "outputs": [],
   "source": [
    "df = df.drop('Location_n', axis=1)\n",
    "df[[\"Location\"]] = encoder.fit_transform(df[[\"Location\"]])"
   ]
  },
  {
   "cell_type": "code",
   "execution_count": 24,
   "id": "0ce5f480",
   "metadata": {},
   "outputs": [],
   "source": [
    "def assign_category(order):\n",
    "    if order > 100:\n",
    "        return 1\n",
    "    elif order > 200:\n",
    "        return 2\n",
    "    elif order > 300 :\n",
    "        return 3\n",
    "    elif order == 0 :\n",
    "        return 0\n",
    "    else:\n",
    "        return 4\n",
    "    \n",
    "    \n",
    "def assign_seasonality(order):\n",
    "    if order in [11,12,1,2]:\n",
    "        return 1\n",
    "    elif order in [3,4,5,6]:\n",
    "        return 2\n",
    "    elif order in [7,8,9,10] :\n",
    "        return 3\n",
    "    \n",
    "\n",
    "df['category'] = df['Orders'].apply(assign_category)\n",
    "df['seasonality'] = df['month'].apply(assign_seasonality)"
   ]
  },
  {
   "cell_type": "code",
   "execution_count": 25,
   "id": "2f07544e",
   "metadata": {},
   "outputs": [
    {
     "data": {
      "text/plain": [
       "Index(['Month', 'Location', 'Budget', 'CPA', 'APPT.created', 'Conversion.ran',\n",
       "       'APPT.ran', 'Conversion.close', 'Orders', 'Average.ticket', 'Sales',\n",
       "       'Year', 'month', 'category', 'seasonality'],\n",
       "      dtype='object')"
      ]
     },
     "execution_count": 25,
     "metadata": {},
     "output_type": "execute_result"
    }
   ],
   "source": [
    "df.columns"
   ]
  },
  {
   "cell_type": "code",
   "execution_count": 26,
   "id": "e77faa19",
   "metadata": {},
   "outputs": [],
   "source": [
    "X = df[['Location','Budget','Year','CPA','month','category', 'seasonality']]\n",
    "y = df[['Sales']]"
   ]
  },
  {
   "cell_type": "code",
   "execution_count": 27,
   "id": "01df330b",
   "metadata": {},
   "outputs": [
    {
     "data": {
      "text/plain": [
       "(1682, 7)"
      ]
     },
     "execution_count": 27,
     "metadata": {},
     "output_type": "execute_result"
    }
   ],
   "source": [
    "X.shape"
   ]
  },
  {
   "cell_type": "code",
   "execution_count": 31,
   "id": "4841f8bd",
   "metadata": {},
   "outputs": [],
   "source": [
    "X_train = X #X[:1900]\n",
    "y_train = y #y[:1900]\n",
    "X_test =  X\n",
    "y_test =  y"
   ]
  },
  {
   "cell_type": "code",
   "execution_count": 32,
   "id": "64bc230c",
   "metadata": {},
   "outputs": [
    {
     "data": {
      "text/plain": [
       "Index(['Location', 'Budget', 'Year', 'CPA', 'month', 'category',\n",
       "       'seasonality'],\n",
       "      dtype='object')"
      ]
     },
     "execution_count": 32,
     "metadata": {},
     "output_type": "execute_result"
    }
   ],
   "source": [
    "X.columns"
   ]
  },
  {
   "cell_type": "code",
   "execution_count": 33,
   "id": "340786a0",
   "metadata": {},
   "outputs": [
    {
     "name": "stdout",
     "output_type": "stream",
     "text": [
      "Mean Squared Error: 0.0\n",
      "Root Mean Square Error 0.0\n",
      "Mean Absolute Error :  0.0\n",
      "Accuracy is :  1.0\n"
     ]
    }
   ],
   "source": [
    "from sklearn.tree import DecisionTreeRegressor\n",
    "from sklearn.metrics import mean_squared_error,r2_score,mean_absolute_error\n",
    "\n",
    "regressor = DecisionTreeRegressor()\n",
    "# Training the decision tree regressor model\n",
    "regressor.fit(X_train, y_train)\n",
    "# Making predictions on the test set\n",
    "y_pred_dt = regressor.predict(X_test)\n",
    "\n",
    "mse = round(mean_squared_error(y_test, y_pred_dt),2)\n",
    "print(\"Mean Squared Error:\", mse)\n",
    "\n",
    "rmse = round(np.sqrt(mse),2)\n",
    "print(\"Root Mean Square Error\",rmse)\n",
    "\n",
    "mae = round(mean_absolute_error(y_test, y_pred_dt),2)\n",
    "print(\"Mean Absolute Error : \", mae)\n",
    "\n",
    "r2 = round(r2_score(y_test, y_pred_dt),2)\n",
    "print(\"Accuracy is : \", r2)"
   ]
  },
  {
   "cell_type": "code",
   "execution_count": 34,
   "id": "37df30c5",
   "metadata": {},
   "outputs": [
    {
     "name": "stdout",
     "output_type": "stream",
     "text": [
      "Mean Squared Error: 0.0\n",
      "Root Mean Square Error 0.0\n",
      "Mean Absolute Error :  0.0\n",
      "Accuracy is :  1.0\n"
     ]
    }
   ],
   "source": [
    "from sklearn.ensemble import RandomForestRegressor\n",
    "\n",
    "reg_rf = DecisionTreeRegressor()\n",
    "# Training the decision tree regressor model\n",
    "reg_rf.fit(X_train, y_train)\n",
    "# Making predictions on the test set\n",
    "y_pred_rf = reg_rf.predict(X_test)\n",
    "\n",
    "mse = round(mean_squared_error(y_test, y_pred_rf),2)\n",
    "print(\"Mean Squared Error:\", mse)\n",
    "\n",
    "rmse = round(np.sqrt(mse),2)\n",
    "print(\"Root Mean Square Error\",rmse)\n",
    "\n",
    "mae = round(mean_absolute_error(y_test, y_pred_rf),2)\n",
    "print(\"Mean Absolute Error : \", mae)\n",
    "\n",
    "r2 = round(r2_score(y_test, y_pred_rf),2)\n",
    "print(\"Accuracy is : \", r2)"
   ]
  },
  {
   "cell_type": "code",
   "execution_count": 35,
   "id": "28a9ff55",
   "metadata": {},
   "outputs": [
    {
     "name": "stdout",
     "output_type": "stream",
     "text": [
      "Mean Squared Error: 780482436.88\n",
      "Root Mean Square Error 27937.12\n",
      "Mean Absolute Error :  20025.02\n",
      "Accuracy is :  0.99\n"
     ]
    }
   ],
   "source": [
    "import xgboost as xgb\n",
    "regressor = xgb.XGBRegressor()\n",
    "# Training the decision tree regressor model\n",
    "regressor.fit(X_train, y_train)\n",
    "# Making predictions on the test set\n",
    "y_pred_xgb = regressor.predict(X_test)\n",
    "\n",
    "y_pred_xgb  = np.round(y_pred_xgb)\n",
    "mse = round(mean_squared_error(y_test, y_pred_xgb),2)\n",
    "print(\"Mean Squared Error:\", mse)\n",
    "\n",
    "rmse = round(np.sqrt(mse),2)\n",
    "print(\"Root Mean Square Error\",rmse)\n",
    "\n",
    "mae = round(mean_absolute_error(y_test, y_pred_xgb),2)\n",
    "print(\"Mean Absolute Error : \", mae)\n",
    "\n",
    "r2 = round(r2_score(y_test, y_pred_xgb),2)\n",
    "print(\"Accuracy is : \", r2)"
   ]
  },
  {
   "cell_type": "code",
   "execution_count": 36,
   "id": "acd2c853",
   "metadata": {},
   "outputs": [
    {
     "name": "stdout",
     "output_type": "stream",
     "text": [
      "0.07042547208680926\n"
     ]
    }
   ],
   "source": [
    "from sklearn.metrics import mean_absolute_percentage_error\n",
    "print(mean_absolute_percentage_error(y_test,y_pred_xgb))"
   ]
  },
  {
   "cell_type": "code",
   "execution_count": 37,
   "id": "ba29bc9b",
   "metadata": {},
   "outputs": [],
   "source": [
    "import pickle\n",
    "with open('sales_forecast.pkl', 'wb') as file:\n",
    "    #pickle.dump(regressor,file)\n",
    "    pickle.dump(reg_rf,file)"
   ]
  },
  {
   "cell_type": "code",
   "execution_count": 38,
   "id": "16e77a06",
   "metadata": {},
   "outputs": [
    {
     "data": {
      "text/plain": [
       "462825.1"
      ]
     },
     "execution_count": 38,
     "metadata": {},
     "output_type": "execute_result"
    }
   ],
   "source": [
    "y_pred_xgb.mean()"
   ]
  },
  {
   "cell_type": "code",
   "execution_count": 39,
   "id": "113ff11a",
   "metadata": {},
   "outputs": [
    {
     "data": {
      "text/plain": [
       "Sales    45.622065\n",
       "dtype: float64"
      ]
     },
     "execution_count": 39,
     "metadata": {},
     "output_type": "execute_result"
    }
   ],
   "source": [
    "y_test.mean()-y_pred_xgb.mean()"
   ]
  },
  {
   "cell_type": "code",
   "execution_count": 40,
   "id": "7a80f7e5",
   "metadata": {},
   "outputs": [
    {
     "data": {
      "text/plain": [
       "45.622064506518655"
      ]
     },
     "execution_count": 40,
     "metadata": {},
     "output_type": "execute_result"
    }
   ],
   "source": [
    "y_test.mean().values[0] -y_pred_xgb.mean()"
   ]
  },
  {
   "cell_type": "code",
   "execution_count": 41,
   "id": "aa19c1c0",
   "metadata": {},
   "outputs": [
    {
     "name": "stdout",
     "output_type": "stream",
     "text": [
      "count    2304.000000\n",
      "mean        0.787760\n",
      "std         1.321063\n",
      "min         0.000000\n",
      "25%         0.000000\n",
      "50%         1.000000\n",
      "75%         1.000000\n",
      "max        59.000000\n",
      "Name: Conversion.ran, dtype: float64\n"
     ]
    },
    {
     "data": {
      "image/png": "[encoded data removed]",
      "text/plain": [
       "<Figure size 640x480 with 1 Axes>"
      ]
     },
     "metadata": {},
     "output_type": "display_data"
    },
    {
     "name": "stdout",
     "output_type": "stream",
     "text": [
      "Quantiles for 'Conversion.ran' column:\n",
      "0.000     0.0\n",
      "0.050     0.0\n",
      "0.100     0.0\n",
      "0.250     0.0\n",
      "0.500     1.0\n",
      "0.750     1.0\n",
      "0.900     1.0\n",
      "0.950     1.0\n",
      "0.970     1.0\n",
      "0.980     1.0\n",
      "0.990     2.0\n",
      "0.995     2.0\n",
      "1.000    59.0\n",
      "Name: Conversion.ran, dtype: float64\n"
     ]
    }
   ],
   "source": [
    "import pandas as pd\n",
    "import numpy as np\n",
    "import matplotlib.pyplot as plt\n",
    "# Load the data into a DataFrame\n",
    "CD1 = pd.read_csv('Champion_Data_Historical_Data.csv')  # Replace 'your_data_file.csv' with the actual file name\n",
    "\n",
    "# Summary of 'Conversion.ran' column\n",
    "conversion_ran_summary = CD1['Conversion.ran'].describe()\n",
    "print(conversion_ran_summary)\n",
    "\n",
    "# Plot the 'Conversion.ran' column\n",
    "plt.plot(CD1['Conversion.ran'])\n",
    "plt.show()\n",
    "\n",
    "# Calculate quantiles for 'Conversion.ran' column\n",
    "quantiles = CD1['Conversion.ran'].quantile([0, 0.05, 0.1, 0.25, 0.5, 0.75, 0.9, 0.95, 0.97, 0.98, 0.99, 0.995, 1])\n",
    "print(\"Quantiles for 'Conversion.ran' column:\")\n",
    "print(quantiles)\n",
    "\n",
    "# Treat outlier values in 'Conversion.ran' column\n",
    "CD1['Conversion.ran'] = np.where(CD1['Conversion.ran'] > 2.0, 1.0, CD1['Conversion.ran'])"
   ]
  },
  {
   "cell_type": "code",
   "execution_count": 42,
   "id": "d910fbdd",
   "metadata": {},
   "outputs": [
    {
     "data": {
      "text/html": [
       "<div>\n",
       "<style scoped>\n",
       "    .dataframe tbody tr th:only-of-type {\n",
       "        vertical-align: middle;\n",
       "    }\n",
       "\n",
       "    .dataframe tbody tr th {\n",
       "        vertical-align: top;\n",
       "    }\n",
       "\n",
       "    .dataframe thead th {\n",
       "        text-align: right;\n",
       "    }\n",
       "</style>\n",
       "<table border=\"1\" class=\"dataframe\">\n",
       "  <thead>\n",
       "    <tr style=\"text-align: right;\">\n",
       "      <th></th>\n",
       "      <th>Month</th>\n",
       "      <th>Location</th>\n",
       "      <th>Budget</th>\n",
       "      <th>CPA</th>\n",
       "      <th>APPT.created</th>\n",
       "      <th>Conversion.ran</th>\n",
       "      <th>APPT.ran</th>\n",
       "      <th>Conversion.close</th>\n",
       "      <th>Orders</th>\n",
       "      <th>Average.ticket</th>\n",
       "      <th>Sales</th>\n",
       "    </tr>\n",
       "  </thead>\n",
       "  <tbody>\n",
       "    <tr>\n",
       "      <th>0</th>\n",
       "      <td>1/1/2015</td>\n",
       "      <td>ALBANY</td>\n",
       "      <td>17931.0</td>\n",
       "      <td>717</td>\n",
       "      <td>25.0</td>\n",
       "      <td>1.0</td>\n",
       "      <td>20.0</td>\n",
       "      <td>0</td>\n",
       "      <td>6.0</td>\n",
       "      <td>4728.0</td>\n",
       "      <td>28366</td>\n",
       "    </tr>\n",
       "    <tr>\n",
       "      <th>1</th>\n",
       "      <td>2/1/2015</td>\n",
       "      <td>ALBANY</td>\n",
       "      <td>33143.0</td>\n",
       "      <td>571</td>\n",
       "      <td>58.0</td>\n",
       "      <td>1.0</td>\n",
       "      <td>50.0</td>\n",
       "      <td>0</td>\n",
       "      <td>13.0</td>\n",
       "      <td>12533.0</td>\n",
       "      <td>162931</td>\n",
       "    </tr>\n",
       "    <tr>\n",
       "      <th>2</th>\n",
       "      <td>3/1/2015</td>\n",
       "      <td>ALBANY</td>\n",
       "      <td>65600.0</td>\n",
       "      <td>820</td>\n",
       "      <td>80.0</td>\n",
       "      <td>1.0</td>\n",
       "      <td>70.0</td>\n",
       "      <td>0</td>\n",
       "      <td>17.0</td>\n",
       "      <td>12260.0</td>\n",
       "      <td>208416</td>\n",
       "    </tr>\n",
       "    <tr>\n",
       "      <th>3</th>\n",
       "      <td>4/1/2015</td>\n",
       "      <td>ALBANY</td>\n",
       "      <td>76460.0</td>\n",
       "      <td>490</td>\n",
       "      <td>156.0</td>\n",
       "      <td>1.0</td>\n",
       "      <td>143.0</td>\n",
       "      <td>0</td>\n",
       "      <td>43.0</td>\n",
       "      <td>7430.0</td>\n",
       "      <td>319473</td>\n",
       "    </tr>\n",
       "    <tr>\n",
       "      <th>4</th>\n",
       "      <td>5/1/2015</td>\n",
       "      <td>ALBANY</td>\n",
       "      <td>77819.0</td>\n",
       "      <td>894</td>\n",
       "      <td>87.0</td>\n",
       "      <td>1.0</td>\n",
       "      <td>106.0</td>\n",
       "      <td>0</td>\n",
       "      <td>23.0</td>\n",
       "      <td>12322.0</td>\n",
       "      <td>283405</td>\n",
       "    </tr>\n",
       "  </tbody>\n",
       "</table>\n",
       "</div>"
      ],
      "text/plain": [
       "      Month Location   Budget  CPA  APPT.created  Conversion.ran  APPT.ran  \\\n",
       "0  1/1/2015   ALBANY  17931.0  717          25.0             1.0      20.0   \n",
       "1  2/1/2015   ALBANY  33143.0  571          58.0             1.0      50.0   \n",
       "2  3/1/2015   ALBANY  65600.0  820          80.0             1.0      70.0   \n",
       "3  4/1/2015   ALBANY  76460.0  490         156.0             1.0     143.0   \n",
       "4  5/1/2015   ALBANY  77819.0  894          87.0             1.0     106.0   \n",
       "\n",
       "   Conversion.close  Orders  Average.ticket   Sales  \n",
       "0                 0     6.0          4728.0   28366  \n",
       "1                 0    13.0         12533.0  162931  \n",
       "2                 0    17.0         12260.0  208416  \n",
       "3                 0    43.0          7430.0  319473  \n",
       "4                 0    23.0         12322.0  283405  "
      ]
     },
     "execution_count": 42,
     "metadata": {},
     "output_type": "execute_result"
    }
   ],
   "source": [
    "CD1.head(5)"
   ]
  },
  {
   "cell_type": "code",
   "execution_count": null,
   "id": "3deab99a",
   "metadata": {},
   "outputs": [],
   "source": []
  }
 ],
 "metadata": {
  "kernelspec": {
   "display_name": "Python 3 (ipykernel)",
   "language": "python",
   "name": "python3"
  },
  "language_info": {
   "codemirror_mode": {
    "name": "ipython",
    "version": 3
   },
   "file_extension": ".py",
   "mimetype": "text/x-python",
   "name": "python",
   "nbconvert_exporter": "python",
   "pygments_lexer": "ipython3",
   "version": "3.9.13"
  }
 },
 "nbformat": 4,
 "nbformat_minor": 5
}
